{
  "nbformat": 4,
  "nbformat_minor": 0,
  "metadata": {
    "colab": {
      "name": "Excel_to_Python.ipynb",
      "provenance": [],
      "collapsed_sections": [],
      "toc_visible": true,
      "authorship_tag": "ABX9TyM7skpZpKZJIOy1v1pakjlh"
    },
    "kernelspec": {
      "name": "python3",
      "display_name": "Python 3"
    }
  },
  "cells": [
    {
      "cell_type": "markdown",
      "metadata": {
        "id": "TyX_8SYkDKrX"
      },
      "source": [
        "# EDA - The pre-cursor to MachineLearning\n",
        "- aka Exploratory Data Analysis\n",
        "- aka Insights to the data \n",
        "- aka Pre-cursor to Machine Learning\n",
        "\n",
        "Understanding data is the key to machine learning and our ability to get the data talking about our domain or business. No task is complete without us understanding what has been accomplished through it.\n",
        "Be it our studies; coding; sales; produce; etc - unless we understand what value we have achieved through the set of actions we undertook to complete those tasks.\n",
        "For example - a farmer will not be able to leverage the amount of spend he has undertaken to get the good or bad produce, the seeds sown, amount of manure added, amount of water; saving the produce from insects, etc ; \n",
        "a salesman will not be able to comprehend on the targets over or underachieved without understand the basis of measure of the information or the raw data it gathers unless it understands how the raw data speaks.\n",
        "a tester will not be able to identify if the test cases / conditions adequately cover the depth and breadth of the application under test; etc\n",
        "\n",
        "Through the following commands, an attempt is made to get the data talking. (the python commands)\n",
        "\n",
        "For a Machine Learning to be initiated on the available data we will first need to understand the underlying data, the flavours it generates, the conversions it takes and most importantly the path it treads us through.\n",
        "\n",
        "Hoping that the attached set of commands will help us to follow the path for assisting the machines to learns and predict further.\n",
        "\n",
        "\n",
        "\n",
        "\n"
      ]
    },
    {
      "cell_type": "markdown",
      "metadata": {
        "id": "NYDL0i6Lc5UB"
      },
      "source": [
        "# Cheat-sheet to work through the popular Excel commands in Python"
      ]
    },
    {
      "cell_type": "code",
      "metadata": {
        "id": "ZCUMHGNEHKdW"
      },
      "source": [
        "#importing required libraries\n",
        "import pandas as pd\n",
        "import numpy as np\n",
        "import matplotlib.pyplot as plt\n",
        "import seaborn as sns\n",
        "import datetime as dt\n",
        "%matplotlib inline"
      ],
      "execution_count": 30,
      "outputs": []
    },
    {
      "cell_type": "markdown",
      "metadata": {
        "id": "gPykdPlBdIy7"
      },
      "source": [
        "## Tabulate the csv data\n",
        "- In excel, we need to import the CSV data"
      ]
    },
    {
      "cell_type": "code",
      "metadata": {
        "id": "-C5gzoTtyQQB",
        "outputId": "10b7e52b-02d9-4c01-871a-a29a5352208a",
        "colab": {
          "base_uri": "https://localhost:8080/",
          "height": 204
        }
      },
      "source": [
        "df_avacado_sales=pd.read_csv('https://raw.githubusercontent.com/insaid2018/Term-2/master/Projects/avocado.csv')\n",
        "df_avacado_sales.head()"
      ],
      "execution_count": 18,
      "outputs": [
        {
          "output_type": "execute_result",
          "data": {
            "text/html": [
              "<div>\n",
              "<style scoped>\n",
              "    .dataframe tbody tr th:only-of-type {\n",
              "        vertical-align: middle;\n",
              "    }\n",
              "\n",
              "    .dataframe tbody tr th {\n",
              "        vertical-align: top;\n",
              "    }\n",
              "\n",
              "    .dataframe thead th {\n",
              "        text-align: right;\n",
              "    }\n",
              "</style>\n",
              "<table border=\"1\" class=\"dataframe\">\n",
              "  <thead>\n",
              "    <tr style=\"text-align: right;\">\n",
              "      <th></th>\n",
              "      <th>Unnamed: 0</th>\n",
              "      <th>Date</th>\n",
              "      <th>AveragePrice</th>\n",
              "      <th>Total Volume</th>\n",
              "      <th>4046</th>\n",
              "      <th>4225</th>\n",
              "      <th>4770</th>\n",
              "      <th>Total Bags</th>\n",
              "      <th>Small Bags</th>\n",
              "      <th>Large Bags</th>\n",
              "      <th>XLarge Bags</th>\n",
              "      <th>type</th>\n",
              "      <th>year</th>\n",
              "      <th>region</th>\n",
              "    </tr>\n",
              "  </thead>\n",
              "  <tbody>\n",
              "    <tr>\n",
              "      <th>0</th>\n",
              "      <td>0</td>\n",
              "      <td>2015-12-27</td>\n",
              "      <td>1.33</td>\n",
              "      <td>64236.62</td>\n",
              "      <td>1036.74</td>\n",
              "      <td>54454.85</td>\n",
              "      <td>48.16</td>\n",
              "      <td>8696.87</td>\n",
              "      <td>8603.62</td>\n",
              "      <td>93.25</td>\n",
              "      <td>0.0</td>\n",
              "      <td>conventional</td>\n",
              "      <td>2015</td>\n",
              "      <td>Albany</td>\n",
              "    </tr>\n",
              "    <tr>\n",
              "      <th>1</th>\n",
              "      <td>1</td>\n",
              "      <td>2015-12-20</td>\n",
              "      <td>1.35</td>\n",
              "      <td>54876.98</td>\n",
              "      <td>674.28</td>\n",
              "      <td>44638.81</td>\n",
              "      <td>58.33</td>\n",
              "      <td>9505.56</td>\n",
              "      <td>9408.07</td>\n",
              "      <td>97.49</td>\n",
              "      <td>0.0</td>\n",
              "      <td>conventional</td>\n",
              "      <td>2015</td>\n",
              "      <td>Albany</td>\n",
              "    </tr>\n",
              "    <tr>\n",
              "      <th>2</th>\n",
              "      <td>2</td>\n",
              "      <td>2015-12-13</td>\n",
              "      <td>0.93</td>\n",
              "      <td>118220.22</td>\n",
              "      <td>794.70</td>\n",
              "      <td>109149.67</td>\n",
              "      <td>130.50</td>\n",
              "      <td>8145.35</td>\n",
              "      <td>8042.21</td>\n",
              "      <td>103.14</td>\n",
              "      <td>0.0</td>\n",
              "      <td>conventional</td>\n",
              "      <td>2015</td>\n",
              "      <td>Albany</td>\n",
              "    </tr>\n",
              "    <tr>\n",
              "      <th>3</th>\n",
              "      <td>3</td>\n",
              "      <td>2015-12-06</td>\n",
              "      <td>1.08</td>\n",
              "      <td>78992.15</td>\n",
              "      <td>1132.00</td>\n",
              "      <td>71976.41</td>\n",
              "      <td>72.58</td>\n",
              "      <td>5811.16</td>\n",
              "      <td>5677.40</td>\n",
              "      <td>133.76</td>\n",
              "      <td>0.0</td>\n",
              "      <td>conventional</td>\n",
              "      <td>2015</td>\n",
              "      <td>Albany</td>\n",
              "    </tr>\n",
              "    <tr>\n",
              "      <th>4</th>\n",
              "      <td>4</td>\n",
              "      <td>2015-11-29</td>\n",
              "      <td>1.28</td>\n",
              "      <td>51039.60</td>\n",
              "      <td>941.48</td>\n",
              "      <td>43838.39</td>\n",
              "      <td>75.78</td>\n",
              "      <td>6183.95</td>\n",
              "      <td>5986.26</td>\n",
              "      <td>197.69</td>\n",
              "      <td>0.0</td>\n",
              "      <td>conventional</td>\n",
              "      <td>2015</td>\n",
              "      <td>Albany</td>\n",
              "    </tr>\n",
              "  </tbody>\n",
              "</table>\n",
              "</div>"
            ],
            "text/plain": [
              "   Unnamed: 0        Date  AveragePrice  ...          type  year  region\n",
              "0           0  2015-12-27          1.33  ...  conventional  2015  Albany\n",
              "1           1  2015-12-20          1.35  ...  conventional  2015  Albany\n",
              "2           2  2015-12-13          0.93  ...  conventional  2015  Albany\n",
              "3           3  2015-12-06          1.08  ...  conventional  2015  Albany\n",
              "4           4  2015-11-29          1.28  ...  conventional  2015  Albany\n",
              "\n",
              "[5 rows x 14 columns]"
            ]
          },
          "metadata": {
            "tags": []
          },
          "execution_count": 18
        }
      ]
    },
    {
      "cell_type": "markdown",
      "metadata": {
        "id": "jUwfHai2dQC_"
      },
      "source": [
        "## Delete / drop a selected column from the table\n",
        "- we are removing column Unnamed: 0\n",
        "- In excel, we select the column, right-click and select Delete Column from the options menu \n"
      ]
    },
    {
      "cell_type": "code",
      "metadata": {
        "id": "7IuUe9dQdac8",
        "outputId": "f3341c59-0c7f-4e3e-bfbf-feac63af9493",
        "colab": {
          "base_uri": "https://localhost:8080/",
          "height": 204
        }
      },
      "source": [
        "df_avacado_sales.drop(columns = 'Unnamed: 0', inplace=True)\n",
        "df_avacado_sales.head()"
      ],
      "execution_count": 19,
      "outputs": [
        {
          "output_type": "execute_result",
          "data": {
            "text/html": [
              "<div>\n",
              "<style scoped>\n",
              "    .dataframe tbody tr th:only-of-type {\n",
              "        vertical-align: middle;\n",
              "    }\n",
              "\n",
              "    .dataframe tbody tr th {\n",
              "        vertical-align: top;\n",
              "    }\n",
              "\n",
              "    .dataframe thead th {\n",
              "        text-align: right;\n",
              "    }\n",
              "</style>\n",
              "<table border=\"1\" class=\"dataframe\">\n",
              "  <thead>\n",
              "    <tr style=\"text-align: right;\">\n",
              "      <th></th>\n",
              "      <th>Date</th>\n",
              "      <th>AveragePrice</th>\n",
              "      <th>Total Volume</th>\n",
              "      <th>4046</th>\n",
              "      <th>4225</th>\n",
              "      <th>4770</th>\n",
              "      <th>Total Bags</th>\n",
              "      <th>Small Bags</th>\n",
              "      <th>Large Bags</th>\n",
              "      <th>XLarge Bags</th>\n",
              "      <th>type</th>\n",
              "      <th>year</th>\n",
              "      <th>region</th>\n",
              "    </tr>\n",
              "  </thead>\n",
              "  <tbody>\n",
              "    <tr>\n",
              "      <th>0</th>\n",
              "      <td>2015-12-27</td>\n",
              "      <td>1.33</td>\n",
              "      <td>64236.62</td>\n",
              "      <td>1036.74</td>\n",
              "      <td>54454.85</td>\n",
              "      <td>48.16</td>\n",
              "      <td>8696.87</td>\n",
              "      <td>8603.62</td>\n",
              "      <td>93.25</td>\n",
              "      <td>0.0</td>\n",
              "      <td>conventional</td>\n",
              "      <td>2015</td>\n",
              "      <td>Albany</td>\n",
              "    </tr>\n",
              "    <tr>\n",
              "      <th>1</th>\n",
              "      <td>2015-12-20</td>\n",
              "      <td>1.35</td>\n",
              "      <td>54876.98</td>\n",
              "      <td>674.28</td>\n",
              "      <td>44638.81</td>\n",
              "      <td>58.33</td>\n",
              "      <td>9505.56</td>\n",
              "      <td>9408.07</td>\n",
              "      <td>97.49</td>\n",
              "      <td>0.0</td>\n",
              "      <td>conventional</td>\n",
              "      <td>2015</td>\n",
              "      <td>Albany</td>\n",
              "    </tr>\n",
              "    <tr>\n",
              "      <th>2</th>\n",
              "      <td>2015-12-13</td>\n",
              "      <td>0.93</td>\n",
              "      <td>118220.22</td>\n",
              "      <td>794.70</td>\n",
              "      <td>109149.67</td>\n",
              "      <td>130.50</td>\n",
              "      <td>8145.35</td>\n",
              "      <td>8042.21</td>\n",
              "      <td>103.14</td>\n",
              "      <td>0.0</td>\n",
              "      <td>conventional</td>\n",
              "      <td>2015</td>\n",
              "      <td>Albany</td>\n",
              "    </tr>\n",
              "    <tr>\n",
              "      <th>3</th>\n",
              "      <td>2015-12-06</td>\n",
              "      <td>1.08</td>\n",
              "      <td>78992.15</td>\n",
              "      <td>1132.00</td>\n",
              "      <td>71976.41</td>\n",
              "      <td>72.58</td>\n",
              "      <td>5811.16</td>\n",
              "      <td>5677.40</td>\n",
              "      <td>133.76</td>\n",
              "      <td>0.0</td>\n",
              "      <td>conventional</td>\n",
              "      <td>2015</td>\n",
              "      <td>Albany</td>\n",
              "    </tr>\n",
              "    <tr>\n",
              "      <th>4</th>\n",
              "      <td>2015-11-29</td>\n",
              "      <td>1.28</td>\n",
              "      <td>51039.60</td>\n",
              "      <td>941.48</td>\n",
              "      <td>43838.39</td>\n",
              "      <td>75.78</td>\n",
              "      <td>6183.95</td>\n",
              "      <td>5986.26</td>\n",
              "      <td>197.69</td>\n",
              "      <td>0.0</td>\n",
              "      <td>conventional</td>\n",
              "      <td>2015</td>\n",
              "      <td>Albany</td>\n",
              "    </tr>\n",
              "  </tbody>\n",
              "</table>\n",
              "</div>"
            ],
            "text/plain": [
              "         Date  AveragePrice  Total Volume  ...          type  year  region\n",
              "0  2015-12-27          1.33      64236.62  ...  conventional  2015  Albany\n",
              "1  2015-12-20          1.35      54876.98  ...  conventional  2015  Albany\n",
              "2  2015-12-13          0.93     118220.22  ...  conventional  2015  Albany\n",
              "3  2015-12-06          1.08      78992.15  ...  conventional  2015  Albany\n",
              "4  2015-11-29          1.28      51039.60  ...  conventional  2015  Albany\n",
              "\n",
              "[5 rows x 13 columns]"
            ]
          },
          "metadata": {
            "tags": []
          },
          "execution_count": 19
        }
      ]
    },
    {
      "cell_type": "markdown",
      "metadata": {
        "id": "VBm7hsqL3aeV"
      },
      "source": [
        "## Understand the column properties\n",
        "- In excel, we need to select the column\n",
        "- Select menu options Format | Number"
      ]
    },
    {
      "cell_type": "code",
      "metadata": {
        "id": "7soPJzSBztOd",
        "outputId": "373df7e6-57e9-41f4-fe54-a64fb42e28f3",
        "colab": {
          "base_uri": "https://localhost:8080/",
          "height": 357
        }
      },
      "source": [
        "df_avacado_sales.info()"
      ],
      "execution_count": 20,
      "outputs": [
        {
          "output_type": "stream",
          "text": [
            "<class 'pandas.core.frame.DataFrame'>\n",
            "RangeIndex: 18249 entries, 0 to 18248\n",
            "Data columns (total 13 columns):\n",
            " #   Column        Non-Null Count  Dtype  \n",
            "---  ------        --------------  -----  \n",
            " 0   Date          18249 non-null  object \n",
            " 1   AveragePrice  18249 non-null  float64\n",
            " 2   Total Volume  18249 non-null  float64\n",
            " 3   4046          18249 non-null  float64\n",
            " 4   4225          18249 non-null  float64\n",
            " 5   4770          18249 non-null  float64\n",
            " 6   Total Bags    18249 non-null  float64\n",
            " 7   Small Bags    18249 non-null  float64\n",
            " 8   Large Bags    18249 non-null  float64\n",
            " 9   XLarge Bags   18249 non-null  float64\n",
            " 10  type          18249 non-null  object \n",
            " 11  year          18249 non-null  int64  \n",
            " 12  region        18249 non-null  object \n",
            "dtypes: float64(9), int64(1), object(3)\n",
            "memory usage: 1.8+ MB\n"
          ],
          "name": "stdout"
        }
      ]
    },
    {
      "cell_type": "code",
      "metadata": {
        "id": "_PpK-_4DyRm4"
      },
      "source": [
        "cols = df_avacado_sales.columns.str.replace(' ', '_')\n",
        "df_avacado_sales.columns = cols"
      ],
      "execution_count": 21,
      "outputs": []
    },
    {
      "cell_type": "markdown",
      "metadata": {
        "id": "tFJJtNgVzz41"
      },
      "source": [
        "## Change column format (Date)\n",
        "- In excel, we select the column\n",
        "- Select menu options Format | Date and choose the Date format"
      ]
    },
    {
      "cell_type": "code",
      "metadata": {
        "id": "JI2lOki8z0GZ"
      },
      "source": [
        "df_avacado_sales['Date'] = pd.to_datetime(df_avacado_sales['Date'])\n"
      ],
      "execution_count": 22,
      "outputs": []
    },
    {
      "cell_type": "markdown",
      "metadata": {
        "id": "F84IWE4ZzJHu"
      },
      "source": [
        "## Add new columns based on existing columns (formula)\n",
        "- In excel, we can write formula's in new columns"
      ]
    },
    {
      "cell_type": "code",
      "metadata": {
        "id": "5R9z8ZglzJX5"
      },
      "source": [
        "df_avacado_sales['Date_Qtr'] = df_avacado_sales.Date.apply(lambda x: x.quarter)\n"
      ],
      "execution_count": 23,
      "outputs": []
    },
    {
      "cell_type": "code",
      "metadata": {
        "id": "F6jMhcko0WQL"
      },
      "source": [
        "df_avacado_sales['month'] = df_avacado_sales['Date'].dt.month"
      ],
      "execution_count": 24,
      "outputs": []
    },
    {
      "cell_type": "code",
      "metadata": {
        "id": "I-UWUOFR0beo"
      },
      "source": [
        "df_avacado_sales['day'] = df_avacado_sales['Date'].dt.day"
      ],
      "execution_count": 25,
      "outputs": []
    },
    {
      "cell_type": "code",
      "metadata": {
        "id": "3n5awHpf0eFT"
      },
      "source": [
        "df_avacado_sales['weekday'] = df_avacado_sales['Date'].dt.dayofweek"
      ],
      "execution_count": 26,
      "outputs": []
    },
    {
      "cell_type": "code",
      "metadata": {
        "id": "_3qyd9sq3IYN"
      },
      "source": [
        "df_avacado_sales['weekday_name'] = df_avacado_sales['Date'].apply(lambda x: dt.datetime.strftime(x, '%A'))\n",
        "#df['datetime'].apply(lambda x: dt.datetime.strftime(x, '%A'))"
      ],
      "execution_count": 32,
      "outputs": []
    },
    {
      "cell_type": "code",
      "metadata": {
        "id": "LkS5NYuy0abb",
        "outputId": "7b86e5a5-4adb-4054-ed8f-317cd00e1e92",
        "colab": {
          "base_uri": "https://localhost:8080/",
          "height": 309
        }
      },
      "source": [
        "df_avacado_sales.head()"
      ],
      "execution_count": 33,
      "outputs": [
        {
          "output_type": "execute_result",
          "data": {
            "text/html": [
              "<div>\n",
              "<style scoped>\n",
              "    .dataframe tbody tr th:only-of-type {\n",
              "        vertical-align: middle;\n",
              "    }\n",
              "\n",
              "    .dataframe tbody tr th {\n",
              "        vertical-align: top;\n",
              "    }\n",
              "\n",
              "    .dataframe thead th {\n",
              "        text-align: right;\n",
              "    }\n",
              "</style>\n",
              "<table border=\"1\" class=\"dataframe\">\n",
              "  <thead>\n",
              "    <tr style=\"text-align: right;\">\n",
              "      <th></th>\n",
              "      <th>Date</th>\n",
              "      <th>AveragePrice</th>\n",
              "      <th>Total_Volume</th>\n",
              "      <th>4046</th>\n",
              "      <th>4225</th>\n",
              "      <th>4770</th>\n",
              "      <th>Total_Bags</th>\n",
              "      <th>Small_Bags</th>\n",
              "      <th>Large_Bags</th>\n",
              "      <th>XLarge_Bags</th>\n",
              "      <th>type</th>\n",
              "      <th>year</th>\n",
              "      <th>region</th>\n",
              "      <th>Date_Qtr</th>\n",
              "      <th>month</th>\n",
              "      <th>day</th>\n",
              "      <th>weekday</th>\n",
              "      <th>weekday_name</th>\n",
              "    </tr>\n",
              "  </thead>\n",
              "  <tbody>\n",
              "    <tr>\n",
              "      <th>0</th>\n",
              "      <td>2015-12-27</td>\n",
              "      <td>1.33</td>\n",
              "      <td>64236.62</td>\n",
              "      <td>1036.74</td>\n",
              "      <td>54454.85</td>\n",
              "      <td>48.16</td>\n",
              "      <td>8696.87</td>\n",
              "      <td>8603.62</td>\n",
              "      <td>93.25</td>\n",
              "      <td>0.0</td>\n",
              "      <td>conventional</td>\n",
              "      <td>2015</td>\n",
              "      <td>Albany</td>\n",
              "      <td>4</td>\n",
              "      <td>12</td>\n",
              "      <td>27</td>\n",
              "      <td>6</td>\n",
              "      <td>Sunday</td>\n",
              "    </tr>\n",
              "    <tr>\n",
              "      <th>1</th>\n",
              "      <td>2015-12-20</td>\n",
              "      <td>1.35</td>\n",
              "      <td>54876.98</td>\n",
              "      <td>674.28</td>\n",
              "      <td>44638.81</td>\n",
              "      <td>58.33</td>\n",
              "      <td>9505.56</td>\n",
              "      <td>9408.07</td>\n",
              "      <td>97.49</td>\n",
              "      <td>0.0</td>\n",
              "      <td>conventional</td>\n",
              "      <td>2015</td>\n",
              "      <td>Albany</td>\n",
              "      <td>4</td>\n",
              "      <td>12</td>\n",
              "      <td>20</td>\n",
              "      <td>6</td>\n",
              "      <td>Sunday</td>\n",
              "    </tr>\n",
              "    <tr>\n",
              "      <th>2</th>\n",
              "      <td>2015-12-13</td>\n",
              "      <td>0.93</td>\n",
              "      <td>118220.22</td>\n",
              "      <td>794.70</td>\n",
              "      <td>109149.67</td>\n",
              "      <td>130.50</td>\n",
              "      <td>8145.35</td>\n",
              "      <td>8042.21</td>\n",
              "      <td>103.14</td>\n",
              "      <td>0.0</td>\n",
              "      <td>conventional</td>\n",
              "      <td>2015</td>\n",
              "      <td>Albany</td>\n",
              "      <td>4</td>\n",
              "      <td>12</td>\n",
              "      <td>13</td>\n",
              "      <td>6</td>\n",
              "      <td>Sunday</td>\n",
              "    </tr>\n",
              "    <tr>\n",
              "      <th>3</th>\n",
              "      <td>2015-12-06</td>\n",
              "      <td>1.08</td>\n",
              "      <td>78992.15</td>\n",
              "      <td>1132.00</td>\n",
              "      <td>71976.41</td>\n",
              "      <td>72.58</td>\n",
              "      <td>5811.16</td>\n",
              "      <td>5677.40</td>\n",
              "      <td>133.76</td>\n",
              "      <td>0.0</td>\n",
              "      <td>conventional</td>\n",
              "      <td>2015</td>\n",
              "      <td>Albany</td>\n",
              "      <td>4</td>\n",
              "      <td>12</td>\n",
              "      <td>6</td>\n",
              "      <td>6</td>\n",
              "      <td>Sunday</td>\n",
              "    </tr>\n",
              "    <tr>\n",
              "      <th>4</th>\n",
              "      <td>2015-11-29</td>\n",
              "      <td>1.28</td>\n",
              "      <td>51039.60</td>\n",
              "      <td>941.48</td>\n",
              "      <td>43838.39</td>\n",
              "      <td>75.78</td>\n",
              "      <td>6183.95</td>\n",
              "      <td>5986.26</td>\n",
              "      <td>197.69</td>\n",
              "      <td>0.0</td>\n",
              "      <td>conventional</td>\n",
              "      <td>2015</td>\n",
              "      <td>Albany</td>\n",
              "      <td>4</td>\n",
              "      <td>11</td>\n",
              "      <td>29</td>\n",
              "      <td>6</td>\n",
              "      <td>Sunday</td>\n",
              "    </tr>\n",
              "  </tbody>\n",
              "</table>\n",
              "</div>"
            ],
            "text/plain": [
              "        Date  AveragePrice  Total_Volume  ...  day  weekday  weekday_name\n",
              "0 2015-12-27          1.33      64236.62  ...   27        6        Sunday\n",
              "1 2015-12-20          1.35      54876.98  ...   20        6        Sunday\n",
              "2 2015-12-13          0.93     118220.22  ...   13        6        Sunday\n",
              "3 2015-12-06          1.08      78992.15  ...    6        6        Sunday\n",
              "4 2015-11-29          1.28      51039.60  ...   29        6        Sunday\n",
              "\n",
              "[5 rows x 18 columns]"
            ]
          },
          "metadata": {
            "tags": []
          },
          "execution_count": 33
        }
      ]
    },
    {
      "cell_type": "markdown",
      "metadata": {
        "id": "CRWlqdL6z-fa"
      },
      "source": [
        "## Count Distincts\n"
      ]
    },
    {
      "cell_type": "markdown",
      "metadata": {
        "id": "bnbvwTNTednp"
      },
      "source": [
        "**Region**"
      ]
    },
    {
      "cell_type": "code",
      "metadata": {
        "id": "ohVowB-Pz-q_",
        "outputId": "b573cb0b-38b8-4183-d0c6-f13bd3ecbea0",
        "colab": {
          "base_uri": "https://localhost:8080/",
          "height": 952
        }
      },
      "source": [
        "df_avacado_sales['region'].value_counts()"
      ],
      "execution_count": 19,
      "outputs": [
        {
          "output_type": "execute_result",
          "data": {
            "text/plain": [
              "Denver                 338\n",
              "Boise                  338\n",
              "California             338\n",
              "Boston                 338\n",
              "Portland               338\n",
              "LasVegas               338\n",
              "HartfordSpringfield    338\n",
              "Tampa                  338\n",
              "MiamiFtLauderdale      338\n",
              "LosAngeles             338\n",
              "Syracuse               338\n",
              "BuffaloRochester       338\n",
              "West                   338\n",
              "SanFrancisco           338\n",
              "Chicago                338\n",
              "HarrisburgScranton     338\n",
              "DallasFtWorth          338\n",
              "Albany                 338\n",
              "Spokane                338\n",
              "SouthCarolina          338\n",
              "Atlanta                338\n",
              "TotalUS                338\n",
              "Northeast              338\n",
              "PhoenixTucson          338\n",
              "Louisville             338\n",
              "SanDiego               338\n",
              "Charlotte              338\n",
              "Pittsburgh             338\n",
              "Seattle                338\n",
              "Columbus               338\n",
              "Southeast              338\n",
              "Nashville              338\n",
              "NorthernNewEngland     338\n",
              "BaltimoreWashington    338\n",
              "Sacramento             338\n",
              "Orlando                338\n",
              "Midsouth               338\n",
              "Roanoke                338\n",
              "GrandRapids            338\n",
              "Detroit                338\n",
              "StLouis                338\n",
              "Plains                 338\n",
              "RichmondNorfolk        338\n",
              "Philadelphia           338\n",
              "SouthCentral           338\n",
              "GreatLakes             338\n",
              "NewOrleansMobile       338\n",
              "CincinnatiDayton       338\n",
              "Jacksonville           338\n",
              "Houston                338\n",
              "NewYork                338\n",
              "RaleighGreensboro      338\n",
              "Indianapolis           338\n",
              "WestTexNewMexico       335\n",
              "Name: region, dtype: int64"
            ]
          },
          "metadata": {
            "tags": []
          },
          "execution_count": 19
        }
      ]
    },
    {
      "cell_type": "markdown",
      "metadata": {
        "id": "fRnjtRtreo9h"
      },
      "source": [
        "**Year**"
      ]
    },
    {
      "cell_type": "code",
      "metadata": {
        "id": "qxHoZ_z1ehSo",
        "outputId": "67a8a9b2-3055-46f6-db05-62a61cbd8d32",
        "colab": {
          "base_uri": "https://localhost:8080/",
          "height": 102
        }
      },
      "source": [
        "df_avacado_sales['year'].value_counts()"
      ],
      "execution_count": 38,
      "outputs": [
        {
          "output_type": "execute_result",
          "data": {
            "text/plain": [
              "2017    5722\n",
              "2016    5616\n",
              "2015    5615\n",
              "2018    1296\n",
              "Name: year, dtype: int64"
            ]
          },
          "metadata": {
            "tags": []
          },
          "execution_count": 38
        }
      ]
    },
    {
      "cell_type": "markdown",
      "metadata": {
        "id": "nboMxHt76A56"
      },
      "source": [
        "## Remove Duplicates"
      ]
    },
    {
      "cell_type": "code",
      "metadata": {
        "id": "qgFAFkN55_0X",
        "outputId": "94926e87-3f32-4aa3-c70c-7e583e3362ca",
        "colab": {
          "base_uri": "https://localhost:8080/",
          "height": 34
        }
      },
      "source": [
        "df_avacado_sales['IS_DUP'] =  df_avacado_sales.duplicated(keep=False)\n",
        "df_avacado_sales.head()\n",
        "df_avacado_sales.IS_DUP.unique()"
      ],
      "execution_count": 40,
      "outputs": [
        {
          "output_type": "execute_result",
          "data": {
            "text/plain": [
              "array([False])"
            ]
          },
          "metadata": {
            "tags": []
          },
          "execution_count": 40
        }
      ]
    },
    {
      "cell_type": "code",
      "metadata": {
        "id": "OWcN8c6Y6upQ"
      },
      "source": [
        ""
      ],
      "execution_count": null,
      "outputs": []
    },
    {
      "cell_type": "markdown",
      "metadata": {
        "id": "d7_5dAcQyDaN"
      },
      "source": [
        "## Pivot Table and plot of the value column"
      ]
    },
    {
      "cell_type": "code",
      "metadata": {
        "id": "QdWMmoIgHg-h"
      },
      "source": [
        "df_avacado_sales_pivot = df_avacado_sales.pivot_table(index=['type','region','year'], values=['AveragePrice','Total_Volume'], aggfunc='mean', margins=False)\n",
        "#df_avacado_sales_pivot.reset_index(inplace=True)\n",
        "df_avacado_sales_pivot.rename(columns={'Total_Volume': 'AverageVolume'}, inplace=True)\n",
        "#df_avacado_sales_pivot.drop(columns='level_0',inplace=True)\n",
        "#df_avacado_sales_pivot.head()"
      ],
      "execution_count": 41,
      "outputs": []
    },
    {
      "cell_type": "code",
      "metadata": {
        "id": "JY3psFrbGpdh",
        "outputId": "e1e55886-16c8-40ca-ec9a-c1f8b810cac3",
        "colab": {
          "base_uri": "https://localhost:8080/",
          "height": 470
        }
      },
      "source": [
        "df_avacado_sales_pivot.AverageVolume.plot.line()\n",
        "plt.xticks(rotation=90)"
      ],
      "execution_count": 43,
      "outputs": [
        {
          "output_type": "execute_result",
          "data": {
            "text/plain": [
              "(array([-100.,    0.,  100.,  200.,  300.,  400.,  500.]),\n",
              " <a list of 7 Text major ticklabel objects>)"
            ]
          },
          "metadata": {
            "tags": []
          },
          "execution_count": 43
        },
        {
          "output_type": "display_data",
          "data": {
            "image/png": "[encoded data removed]",
            "text/plain": [
              "<Figure size 432x288 with 1 Axes>"
            ]
          },
          "metadata": {
            "tags": [],
            "needs_background": "light"
          }
        }
      ]
    },
    {
      "cell_type": "code",
      "metadata": {
        "id": "5dAi7U19BStW",
        "outputId": "4fe1ea49-eaa6-4e29-f124-4c4e69ab1473",
        "colab": {
          "base_uri": "https://localhost:8080/",
          "height": 1000
        }
      },
      "source": [
        "#Excel like pivot table depicting the prices over the years and the mean price per region\n",
        "df_avacado_sales.pivot_table(index=['region'],columns=['year'], values=['AveragePrice'], aggfunc='mean',margins_name='MeanPrice', margins=True)\n"
      ],
      "execution_count": 42,
      "outputs": [
        {
          "output_type": "execute_result",
          "data": {
            "text/html": [
              "<div>\n",
              "<style scoped>\n",
              "    .dataframe tbody tr th:only-of-type {\n",
              "        vertical-align: middle;\n",
              "    }\n",
              "\n",
              "    .dataframe tbody tr th {\n",
              "        vertical-align: top;\n",
              "    }\n",
              "\n",
              "    .dataframe thead tr th {\n",
              "        text-align: left;\n",
              "    }\n",
              "\n",
              "    .dataframe thead tr:last-of-type th {\n",
              "        text-align: right;\n",
              "    }\n",
              "</style>\n",
              "<table border=\"1\" class=\"dataframe\">\n",
              "  <thead>\n",
              "    <tr>\n",
              "      <th></th>\n",
              "      <th colspan=\"5\" halign=\"left\">AveragePrice</th>\n",
              "    </tr>\n",
              "    <tr>\n",
              "      <th>year</th>\n",
              "      <th>2015</th>\n",
              "      <th>2016</th>\n",
              "      <th>2017</th>\n",
              "      <th>2018</th>\n",
              "      <th>MeanPrice</th>\n",
              "    </tr>\n",
              "    <tr>\n",
              "      <th>region</th>\n",
              "      <th></th>\n",
              "      <th></th>\n",
              "      <th></th>\n",
              "      <th></th>\n",
              "      <th></th>\n",
              "    </tr>\n",
              "  </thead>\n",
              "  <tbody>\n",
              "    <tr>\n",
              "      <th>Albany</th>\n",
              "      <td>1.538750</td>\n",
              "      <td>1.533942</td>\n",
              "      <td>1.637830</td>\n",
              "      <td>1.435833</td>\n",
              "      <td>1.561036</td>\n",
              "    </tr>\n",
              "    <tr>\n",
              "      <th>Atlanta</th>\n",
              "      <td>1.380577</td>\n",
              "      <td>1.214135</td>\n",
              "      <td>1.428774</td>\n",
              "      <td>1.288750</td>\n",
              "      <td>1.337959</td>\n",
              "    </tr>\n",
              "    <tr>\n",
              "      <th>BaltimoreWashington</th>\n",
              "      <td>1.368846</td>\n",
              "      <td>1.587596</td>\n",
              "      <td>1.679434</td>\n",
              "      <td>1.378333</td>\n",
              "      <td>1.534231</td>\n",
              "    </tr>\n",
              "    <tr>\n",
              "      <th>Boise</th>\n",
              "      <td>1.373750</td>\n",
              "      <td>1.141923</td>\n",
              "      <td>1.492642</td>\n",
              "      <td>1.492500</td>\n",
              "      <td>1.348136</td>\n",
              "    </tr>\n",
              "    <tr>\n",
              "      <th>Boston</th>\n",
              "      <td>1.473558</td>\n",
              "      <td>1.426154</td>\n",
              "      <td>1.679528</td>\n",
              "      <td>1.576667</td>\n",
              "      <td>1.530888</td>\n",
              "    </tr>\n",
              "    <tr>\n",
              "      <th>BuffaloRochester</th>\n",
              "      <td>1.544615</td>\n",
              "      <td>1.483846</td>\n",
              "      <td>1.587736</td>\n",
              "      <td>1.226250</td>\n",
              "      <td>1.516834</td>\n",
              "    </tr>\n",
              "    <tr>\n",
              "      <th>California</th>\n",
              "      <td>1.315865</td>\n",
              "      <td>1.329904</td>\n",
              "      <td>1.533868</td>\n",
              "      <td>1.411250</td>\n",
              "      <td>1.395325</td>\n",
              "    </tr>\n",
              "    <tr>\n",
              "      <th>Charlotte</th>\n",
              "      <td>1.575769</td>\n",
              "      <td>1.497885</td>\n",
              "      <td>1.769811</td>\n",
              "      <td>1.482500</td>\n",
              "      <td>1.606036</td>\n",
              "    </tr>\n",
              "    <tr>\n",
              "      <th>Chicago</th>\n",
              "      <td>1.404038</td>\n",
              "      <td>1.547308</td>\n",
              "      <td>1.714811</td>\n",
              "      <td>1.561667</td>\n",
              "      <td>1.556775</td>\n",
              "    </tr>\n",
              "    <tr>\n",
              "      <th>CincinnatiDayton</th>\n",
              "      <td>1.202308</td>\n",
              "      <td>1.088365</td>\n",
              "      <td>1.319434</td>\n",
              "      <td>1.275833</td>\n",
              "      <td>1.209201</td>\n",
              "    </tr>\n",
              "    <tr>\n",
              "      <th>Columbus</th>\n",
              "      <td>1.273846</td>\n",
              "      <td>1.186346</td>\n",
              "      <td>1.315660</td>\n",
              "      <td>1.171667</td>\n",
              "      <td>1.252781</td>\n",
              "    </tr>\n",
              "    <tr>\n",
              "      <th>DallasFtWorth</th>\n",
              "      <td>1.077885</td>\n",
              "      <td>0.996154</td>\n",
              "      <td>1.176981</td>\n",
              "      <td>1.102917</td>\n",
              "      <td>1.085592</td>\n",
              "    </tr>\n",
              "    <tr>\n",
              "      <th>Denver</th>\n",
              "      <td>1.187788</td>\n",
              "      <td>1.093173</td>\n",
              "      <td>1.357736</td>\n",
              "      <td>1.280833</td>\n",
              "      <td>1.218580</td>\n",
              "    </tr>\n",
              "    <tr>\n",
              "      <th>Detroit</th>\n",
              "      <td>1.338269</td>\n",
              "      <td>1.172404</td>\n",
              "      <td>1.339057</td>\n",
              "      <td>1.177917</td>\n",
              "      <td>1.276095</td>\n",
              "    </tr>\n",
              "    <tr>\n",
              "      <th>GrandRapids</th>\n",
              "      <td>1.416346</td>\n",
              "      <td>1.509327</td>\n",
              "      <td>1.627736</td>\n",
              "      <td>1.328333</td>\n",
              "      <td>1.505000</td>\n",
              "    </tr>\n",
              "    <tr>\n",
              "      <th>GreatLakes</th>\n",
              "      <td>1.326250</td>\n",
              "      <td>1.277019</td>\n",
              "      <td>1.424623</td>\n",
              "      <td>1.278333</td>\n",
              "      <td>1.338550</td>\n",
              "    </tr>\n",
              "    <tr>\n",
              "      <th>HarrisburgScranton</th>\n",
              "      <td>1.471635</td>\n",
              "      <td>1.511635</td>\n",
              "      <td>1.595755</td>\n",
              "      <td>1.336667</td>\n",
              "      <td>1.513284</td>\n",
              "    </tr>\n",
              "    <tr>\n",
              "      <th>HartfordSpringfield</th>\n",
              "      <td>1.747788</td>\n",
              "      <td>1.851058</td>\n",
              "      <td>1.888302</td>\n",
              "      <td>1.677500</td>\n",
              "      <td>1.818639</td>\n",
              "    </tr>\n",
              "    <tr>\n",
              "      <th>Houston</th>\n",
              "      <td>1.048077</td>\n",
              "      <td>0.991923</td>\n",
              "      <td>1.104057</td>\n",
              "      <td>1.042083</td>\n",
              "      <td>1.047929</td>\n",
              "    </tr>\n",
              "    <tr>\n",
              "      <th>Indianapolis</th>\n",
              "      <td>1.342981</td>\n",
              "      <td>1.301538</td>\n",
              "      <td>1.330755</td>\n",
              "      <td>1.168333</td>\n",
              "      <td>1.313994</td>\n",
              "    </tr>\n",
              "    <tr>\n",
              "      <th>Jacksonville</th>\n",
              "      <td>1.503077</td>\n",
              "      <td>1.367692</td>\n",
              "      <td>1.671509</td>\n",
              "      <td>1.456667</td>\n",
              "      <td>1.510947</td>\n",
              "    </tr>\n",
              "    <tr>\n",
              "      <th>LasVegas</th>\n",
              "      <td>1.368846</td>\n",
              "      <td>1.352404</td>\n",
              "      <td>1.417830</td>\n",
              "      <td>1.393750</td>\n",
              "      <td>1.380917</td>\n",
              "    </tr>\n",
              "    <tr>\n",
              "      <th>LosAngeles</th>\n",
              "      <td>1.152500</td>\n",
              "      <td>1.083750</td>\n",
              "      <td>1.377358</td>\n",
              "      <td>1.351667</td>\n",
              "      <td>1.216006</td>\n",
              "    </tr>\n",
              "    <tr>\n",
              "      <th>Louisville</th>\n",
              "      <td>1.294423</td>\n",
              "      <td>1.211538</td>\n",
              "      <td>1.357075</td>\n",
              "      <td>1.267917</td>\n",
              "      <td>1.286686</td>\n",
              "    </tr>\n",
              "    <tr>\n",
              "      <th>MiamiFtLauderdale</th>\n",
              "      <td>1.383558</td>\n",
              "      <td>1.279808</td>\n",
              "      <td>1.637547</td>\n",
              "      <td>1.344167</td>\n",
              "      <td>1.428491</td>\n",
              "    </tr>\n",
              "    <tr>\n",
              "      <th>Midsouth</th>\n",
              "      <td>1.351346</td>\n",
              "      <td>1.350865</td>\n",
              "      <td>1.520566</td>\n",
              "      <td>1.358333</td>\n",
              "      <td>1.404763</td>\n",
              "    </tr>\n",
              "    <tr>\n",
              "      <th>Nashville</th>\n",
              "      <td>1.277212</td>\n",
              "      <td>1.116154</td>\n",
              "      <td>1.240000</td>\n",
              "      <td>1.222500</td>\n",
              "      <td>1.212101</td>\n",
              "    </tr>\n",
              "    <tr>\n",
              "      <th>NewOrleansMobile</th>\n",
              "      <td>1.267692</td>\n",
              "      <td>1.248654</td>\n",
              "      <td>1.419057</td>\n",
              "      <td>1.204167</td>\n",
              "      <td>1.304793</td>\n",
              "    </tr>\n",
              "    <tr>\n",
              "      <th>NewYork</th>\n",
              "      <td>1.644519</td>\n",
              "      <td>1.762019</td>\n",
              "      <td>1.809906</td>\n",
              "      <td>1.574583</td>\n",
              "      <td>1.727574</td>\n",
              "    </tr>\n",
              "    <tr>\n",
              "      <th>Northeast</th>\n",
              "      <td>1.543750</td>\n",
              "      <td>1.595673</td>\n",
              "      <td>1.694057</td>\n",
              "      <td>1.474167</td>\n",
              "      <td>1.601923</td>\n",
              "    </tr>\n",
              "    <tr>\n",
              "      <th>NorthernNewEngland</th>\n",
              "      <td>1.473365</td>\n",
              "      <td>1.392692</td>\n",
              "      <td>1.577170</td>\n",
              "      <td>1.421250</td>\n",
              "      <td>1.477396</td>\n",
              "    </tr>\n",
              "    <tr>\n",
              "      <th>Orlando</th>\n",
              "      <td>1.499327</td>\n",
              "      <td>1.370769</td>\n",
              "      <td>1.680189</td>\n",
              "      <td>1.354583</td>\n",
              "      <td>1.506213</td>\n",
              "    </tr>\n",
              "    <tr>\n",
              "      <th>Philadelphia</th>\n",
              "      <td>1.555192</td>\n",
              "      <td>1.674808</td>\n",
              "      <td>1.707264</td>\n",
              "      <td>1.448750</td>\n",
              "      <td>1.632130</td>\n",
              "    </tr>\n",
              "    <tr>\n",
              "      <th>PhoenixTucson</th>\n",
              "      <td>1.157115</td>\n",
              "      <td>1.258750</td>\n",
              "      <td>1.272547</td>\n",
              "      <td>1.155000</td>\n",
              "      <td>1.224438</td>\n",
              "    </tr>\n",
              "    <tr>\n",
              "      <th>Pittsburgh</th>\n",
              "      <td>1.407212</td>\n",
              "      <td>1.343365</td>\n",
              "      <td>1.362925</td>\n",
              "      <td>1.275417</td>\n",
              "      <td>1.364320</td>\n",
              "    </tr>\n",
              "    <tr>\n",
              "      <th>Plains</th>\n",
              "      <td>1.437885</td>\n",
              "      <td>1.377500</td>\n",
              "      <td>1.510472</td>\n",
              "      <td>1.359583</td>\n",
              "      <td>1.436509</td>\n",
              "    </tr>\n",
              "    <tr>\n",
              "      <th>Portland</th>\n",
              "      <td>1.306827</td>\n",
              "      <td>1.191635</td>\n",
              "      <td>1.434340</td>\n",
              "      <td>1.396250</td>\n",
              "      <td>1.317722</td>\n",
              "    </tr>\n",
              "    <tr>\n",
              "      <th>RaleighGreensboro</th>\n",
              "      <td>1.449423</td>\n",
              "      <td>1.447788</td>\n",
              "      <td>1.768679</td>\n",
              "      <td>1.535000</td>\n",
              "      <td>1.555118</td>\n",
              "    </tr>\n",
              "    <tr>\n",
              "      <th>RichmondNorfolk</th>\n",
              "      <td>1.274519</td>\n",
              "      <td>1.211154</td>\n",
              "      <td>1.399245</td>\n",
              "      <td>1.235000</td>\n",
              "      <td>1.291331</td>\n",
              "    </tr>\n",
              "    <tr>\n",
              "      <th>Roanoke</th>\n",
              "      <td>1.227115</td>\n",
              "      <td>1.147500</td>\n",
              "      <td>1.358302</td>\n",
              "      <td>1.285833</td>\n",
              "      <td>1.247929</td>\n",
              "    </tr>\n",
              "    <tr>\n",
              "      <th>Sacramento</th>\n",
              "      <td>1.454038</td>\n",
              "      <td>1.668173</td>\n",
              "      <td>1.774057</td>\n",
              "      <td>1.472083</td>\n",
              "      <td>1.621568</td>\n",
              "    </tr>\n",
              "    <tr>\n",
              "      <th>SanDiego</th>\n",
              "      <td>1.274231</td>\n",
              "      <td>1.313750</td>\n",
              "      <td>1.584528</td>\n",
              "      <td>1.477917</td>\n",
              "      <td>1.398166</td>\n",
              "    </tr>\n",
              "    <tr>\n",
              "      <th>SanFrancisco</th>\n",
              "      <td>1.621058</td>\n",
              "      <td>1.881250</td>\n",
              "      <td>1.965943</td>\n",
              "      <td>1.549583</td>\n",
              "      <td>1.804201</td>\n",
              "    </tr>\n",
              "    <tr>\n",
              "      <th>Seattle</th>\n",
              "      <td>1.422212</td>\n",
              "      <td>1.300288</td>\n",
              "      <td>1.599340</td>\n",
              "      <td>1.455000</td>\n",
              "      <td>1.442574</td>\n",
              "    </tr>\n",
              "    <tr>\n",
              "      <th>SouthCarolina</th>\n",
              "      <td>1.454712</td>\n",
              "      <td>1.305000</td>\n",
              "      <td>1.479811</td>\n",
              "      <td>1.268333</td>\n",
              "      <td>1.403284</td>\n",
              "    </tr>\n",
              "    <tr>\n",
              "      <th>SouthCentral</th>\n",
              "      <td>1.112019</td>\n",
              "      <td>1.026923</td>\n",
              "      <td>1.162830</td>\n",
              "      <td>1.104583</td>\n",
              "      <td>1.101243</td>\n",
              "    </tr>\n",
              "    <tr>\n",
              "      <th>Southeast</th>\n",
              "      <td>1.414712</td>\n",
              "      <td>1.286923</td>\n",
              "      <td>1.512170</td>\n",
              "      <td>1.302917</td>\n",
              "      <td>1.398018</td>\n",
              "    </tr>\n",
              "    <tr>\n",
              "      <th>Spokane</th>\n",
              "      <td>1.400385</td>\n",
              "      <td>1.333558</td>\n",
              "      <td>1.604528</td>\n",
              "      <td>1.425000</td>\n",
              "      <td>1.445592</td>\n",
              "    </tr>\n",
              "    <tr>\n",
              "      <th>StLouis</th>\n",
              "      <td>1.503365</td>\n",
              "      <td>1.185481</td>\n",
              "      <td>1.591792</td>\n",
              "      <td>1.465833</td>\n",
              "      <td>1.430621</td>\n",
              "    </tr>\n",
              "    <tr>\n",
              "      <th>Syracuse</th>\n",
              "      <td>1.529038</td>\n",
              "      <td>1.503462</td>\n",
              "      <td>1.589434</td>\n",
              "      <td>1.250417</td>\n",
              "      <td>1.520325</td>\n",
              "    </tr>\n",
              "    <tr>\n",
              "      <th>Tampa</th>\n",
              "      <td>1.356635</td>\n",
              "      <td>1.264519</td>\n",
              "      <td>1.619340</td>\n",
              "      <td>1.330833</td>\n",
              "      <td>1.408846</td>\n",
              "    </tr>\n",
              "    <tr>\n",
              "      <th>TotalUS</th>\n",
              "      <td>1.257404</td>\n",
              "      <td>1.263558</td>\n",
              "      <td>1.436604</td>\n",
              "      <td>1.307083</td>\n",
              "      <td>1.319024</td>\n",
              "    </tr>\n",
              "    <tr>\n",
              "      <th>West</th>\n",
              "      <td>1.237788</td>\n",
              "      <td>1.180865</td>\n",
              "      <td>1.390000</td>\n",
              "      <td>1.297083</td>\n",
              "      <td>1.272219</td>\n",
              "    </tr>\n",
              "    <tr>\n",
              "      <th>WestTexNewMexico</th>\n",
              "      <td>1.259320</td>\n",
              "      <td>1.246635</td>\n",
              "      <td>1.281538</td>\n",
              "      <td>1.251250</td>\n",
              "      <td>1.261701</td>\n",
              "    </tr>\n",
              "    <tr>\n",
              "      <th>MeanPrice</th>\n",
              "      <td>1.375590</td>\n",
              "      <td>1.338640</td>\n",
              "      <td>1.515128</td>\n",
              "      <td>1.347531</td>\n",
              "      <td>1.405978</td>\n",
              "    </tr>\n",
              "  </tbody>\n",
              "</table>\n",
              "</div>"
            ],
            "text/plain": [
              "                    AveragePrice                                        \n",
              "year                        2015      2016      2017      2018 MeanPrice\n",
              "region                                                                  \n",
              "Albany                  1.538750  1.533942  1.637830  1.435833  1.561036\n",
              "Atlanta                 1.380577  1.214135  1.428774  1.288750  1.337959\n",
              "BaltimoreWashington     1.368846  1.587596  1.679434  1.378333  1.534231\n",
              "Boise                   1.373750  1.141923  1.492642  1.492500  1.348136\n",
              "Boston                  1.473558  1.426154  1.679528  1.576667  1.530888\n",
              "BuffaloRochester        1.544615  1.483846  1.587736  1.226250  1.516834\n",
              "California              1.315865  1.329904  1.533868  1.411250  1.395325\n",
              "Charlotte               1.575769  1.497885  1.769811  1.482500  1.606036\n",
              "Chicago                 1.404038  1.547308  1.714811  1.561667  1.556775\n",
              "CincinnatiDayton        1.202308  1.088365  1.319434  1.275833  1.209201\n",
              "Columbus                1.273846  1.186346  1.315660  1.171667  1.252781\n",
              "DallasFtWorth           1.077885  0.996154  1.176981  1.102917  1.085592\n",
              "Denver                  1.187788  1.093173  1.357736  1.280833  1.218580\n",
              "Detroit                 1.338269  1.172404  1.339057  1.177917  1.276095\n",
              "GrandRapids             1.416346  1.509327  1.627736  1.328333  1.505000\n",
              "GreatLakes              1.326250  1.277019  1.424623  1.278333  1.338550\n",
              "HarrisburgScranton      1.471635  1.511635  1.595755  1.336667  1.513284\n",
              "HartfordSpringfield     1.747788  1.851058  1.888302  1.677500  1.818639\n",
              "Houston                 1.048077  0.991923  1.104057  1.042083  1.047929\n",
              "Indianapolis            1.342981  1.301538  1.330755  1.168333  1.313994\n",
              "Jacksonville            1.503077  1.367692  1.671509  1.456667  1.510947\n",
              "LasVegas                1.368846  1.352404  1.417830  1.393750  1.380917\n",
              "LosAngeles              1.152500  1.083750  1.377358  1.351667  1.216006\n",
              "Louisville              1.294423  1.211538  1.357075  1.267917  1.286686\n",
              "MiamiFtLauderdale       1.383558  1.279808  1.637547  1.344167  1.428491\n",
              "Midsouth                1.351346  1.350865  1.520566  1.358333  1.404763\n",
              "Nashville               1.277212  1.116154  1.240000  1.222500  1.212101\n",
              "NewOrleansMobile        1.267692  1.248654  1.419057  1.204167  1.304793\n",
              "NewYork                 1.644519  1.762019  1.809906  1.574583  1.727574\n",
              "Northeast               1.543750  1.595673  1.694057  1.474167  1.601923\n",
              "NorthernNewEngland      1.473365  1.392692  1.577170  1.421250  1.477396\n",
              "Orlando                 1.499327  1.370769  1.680189  1.354583  1.506213\n",
              "Philadelphia            1.555192  1.674808  1.707264  1.448750  1.632130\n",
              "PhoenixTucson           1.157115  1.258750  1.272547  1.155000  1.224438\n",
              "Pittsburgh              1.407212  1.343365  1.362925  1.275417  1.364320\n",
              "Plains                  1.437885  1.377500  1.510472  1.359583  1.436509\n",
              "Portland                1.306827  1.191635  1.434340  1.396250  1.317722\n",
              "RaleighGreensboro       1.449423  1.447788  1.768679  1.535000  1.555118\n",
              "RichmondNorfolk         1.274519  1.211154  1.399245  1.235000  1.291331\n",
              "Roanoke                 1.227115  1.147500  1.358302  1.285833  1.247929\n",
              "Sacramento              1.454038  1.668173  1.774057  1.472083  1.621568\n",
              "SanDiego                1.274231  1.313750  1.584528  1.477917  1.398166\n",
              "SanFrancisco            1.621058  1.881250  1.965943  1.549583  1.804201\n",
              "Seattle                 1.422212  1.300288  1.599340  1.455000  1.442574\n",
              "SouthCarolina           1.454712  1.305000  1.479811  1.268333  1.403284\n",
              "SouthCentral            1.112019  1.026923  1.162830  1.104583  1.101243\n",
              "Southeast               1.414712  1.286923  1.512170  1.302917  1.398018\n",
              "Spokane                 1.400385  1.333558  1.604528  1.425000  1.445592\n",
              "StLouis                 1.503365  1.185481  1.591792  1.465833  1.430621\n",
              "Syracuse                1.529038  1.503462  1.589434  1.250417  1.520325\n",
              "Tampa                   1.356635  1.264519  1.619340  1.330833  1.408846\n",
              "TotalUS                 1.257404  1.263558  1.436604  1.307083  1.319024\n",
              "West                    1.237788  1.180865  1.390000  1.297083  1.272219\n",
              "WestTexNewMexico        1.259320  1.246635  1.281538  1.251250  1.261701\n",
              "MeanPrice               1.375590  1.338640  1.515128  1.347531  1.405978"
            ]
          },
          "metadata": {
            "tags": []
          },
          "execution_count": 42
        }
      ]
    },
    {
      "cell_type": "markdown",
      "metadata": {
        "id": "UI14Wa8CyIDP"
      },
      "source": [
        "## Group By and Series plot"
      ]
    },
    {
      "cell_type": "code",
      "metadata": {
        "id": "4tzr0O9myIeL",
        "outputId": "d72e6d47-f175-4e2f-f077-e355410614c7",
        "colab": {
          "base_uri": "https://localhost:8080/",
          "height": 452
        }
      },
      "source": [
        "df_region = pd.DataFrame(df_avacado_sales.groupby(['year','Date_Qtr'])['Total_Volume'].mean())\n",
        "df_region.columns = ['AverageVolume']\n",
        "df_region['AverageVolume'] = round(df_region.AverageVolume,2)\n",
        "df_region.reset_index(inplace=True)\n",
        "df_region"
      ],
      "execution_count": 44,
      "outputs": [
        {
          "output_type": "execute_result",
          "data": {
            "text/html": [
              "<div>\n",
              "<style scoped>\n",
              "    .dataframe tbody tr th:only-of-type {\n",
              "        vertical-align: middle;\n",
              "    }\n",
              "\n",
              "    .dataframe tbody tr th {\n",
              "        vertical-align: top;\n",
              "    }\n",
              "\n",
              "    .dataframe thead th {\n",
              "        text-align: right;\n",
              "    }\n",
              "</style>\n",
              "<table border=\"1\" class=\"dataframe\">\n",
              "  <thead>\n",
              "    <tr style=\"text-align: right;\">\n",
              "      <th></th>\n",
              "      <th>year</th>\n",
              "      <th>Date_Qtr</th>\n",
              "      <th>AverageVolume</th>\n",
              "    </tr>\n",
              "  </thead>\n",
              "  <tbody>\n",
              "    <tr>\n",
              "      <th>0</th>\n",
              "      <td>2015</td>\n",
              "      <td>1</td>\n",
              "      <td>782981.40</td>\n",
              "    </tr>\n",
              "    <tr>\n",
              "      <th>1</th>\n",
              "      <td>2015</td>\n",
              "      <td>2</td>\n",
              "      <td>861648.99</td>\n",
              "    </tr>\n",
              "    <tr>\n",
              "      <th>2</th>\n",
              "      <td>2015</td>\n",
              "      <td>3</td>\n",
              "      <td>787154.93</td>\n",
              "    </tr>\n",
              "    <tr>\n",
              "      <th>3</th>\n",
              "      <td>2015</td>\n",
              "      <td>4</td>\n",
              "      <td>692260.93</td>\n",
              "    </tr>\n",
              "    <tr>\n",
              "      <th>4</th>\n",
              "      <td>2016</td>\n",
              "      <td>1</td>\n",
              "      <td>922552.69</td>\n",
              "    </tr>\n",
              "    <tr>\n",
              "      <th>5</th>\n",
              "      <td>2016</td>\n",
              "      <td>2</td>\n",
              "      <td>978199.03</td>\n",
              "    </tr>\n",
              "    <tr>\n",
              "      <th>6</th>\n",
              "      <td>2016</td>\n",
              "      <td>3</td>\n",
              "      <td>854968.37</td>\n",
              "    </tr>\n",
              "    <tr>\n",
              "      <th>7</th>\n",
              "      <td>2016</td>\n",
              "      <td>4</td>\n",
              "      <td>677962.17</td>\n",
              "    </tr>\n",
              "    <tr>\n",
              "      <th>8</th>\n",
              "      <td>2017</td>\n",
              "      <td>1</td>\n",
              "      <td>971298.87</td>\n",
              "    </tr>\n",
              "    <tr>\n",
              "      <th>9</th>\n",
              "      <td>2017</td>\n",
              "      <td>2</td>\n",
              "      <td>945760.14</td>\n",
              "    </tr>\n",
              "    <tr>\n",
              "      <th>10</th>\n",
              "      <td>2017</td>\n",
              "      <td>3</td>\n",
              "      <td>782062.85</td>\n",
              "    </tr>\n",
              "    <tr>\n",
              "      <th>11</th>\n",
              "      <td>2017</td>\n",
              "      <td>4</td>\n",
              "      <td>758353.26</td>\n",
              "    </tr>\n",
              "    <tr>\n",
              "      <th>12</th>\n",
              "      <td>2018</td>\n",
              "      <td>1</td>\n",
              "      <td>1066927.73</td>\n",
              "    </tr>\n",
              "  </tbody>\n",
              "</table>\n",
              "</div>"
            ],
            "text/plain": [
              "    year  Date_Qtr  AverageVolume\n",
              "0   2015         1      782981.40\n",
              "1   2015         2      861648.99\n",
              "2   2015         3      787154.93\n",
              "3   2015         4      692260.93\n",
              "4   2016         1      922552.69\n",
              "5   2016         2      978199.03\n",
              "6   2016         3      854968.37\n",
              "7   2016         4      677962.17\n",
              "8   2017         1      971298.87\n",
              "9   2017         2      945760.14\n",
              "10  2017         3      782062.85\n",
              "11  2017         4      758353.26\n",
              "12  2018         1     1066927.73"
            ]
          },
          "metadata": {
            "tags": []
          },
          "execution_count": 44
        }
      ]
    },
    {
      "cell_type": "code",
      "metadata": {
        "id": "FpBe1Pg1hX8E",
        "outputId": "97296111-120d-4401-d9fe-33ed3d18e741",
        "colab": {
          "base_uri": "https://localhost:8080/",
          "height": 293
        }
      },
      "source": [
        "a = np.array(df_region.AverageVolume)\n",
        "df_region.AverageVolume.plot.line()"
      ],
      "execution_count": 45,
      "outputs": [
        {
          "output_type": "execute_result",
          "data": {
            "text/plain": [
              "<matplotlib.axes._subplots.AxesSubplot at 0x7f2df5081be0>"
            ]
          },
          "metadata": {
            "tags": []
          },
          "execution_count": 45
        },
        {
          "output_type": "display_data",
          "data": {
            "image/png": "[encoded data removed]",
            "text/plain": [
              "<Figure size 432x288 with 1 Axes>"
            ]
          },
          "metadata": {
            "tags": [],
            "needs_background": "light"
          }
        }
      ]
    },
    {
      "cell_type": "code",
      "metadata": {
        "id": "2xfZowDlGW0M",
        "outputId": "787bdefb-7c35-45b2-8e8f-3c74c5683386",
        "colab": {
          "base_uri": "https://localhost:8080/",
          "height": 293
        }
      },
      "source": [
        "df_region.AverageVolume.plot.line()"
      ],
      "execution_count": 24,
      "outputs": [
        {
          "output_type": "execute_result",
          "data": {
            "text/plain": [
              "<matplotlib.axes._subplots.AxesSubplot at 0x7f2e01e01d30>"
            ]
          },
          "metadata": {
            "tags": []
          },
          "execution_count": 24
        },
        {
          "output_type": "display_data",
          "data": {
            "image/png": "[encoded data removed]",
            "text/plain": [
              "<Figure size 432x288 with 1 Axes>"
            ]
          },
          "metadata": {
            "tags": [],
            "needs_background": "light"
          }
        }
      ]
    },
    {
      "cell_type": "code",
      "metadata": {
        "id": "eiFe4964Heql"
      },
      "source": [
        ""
      ],
      "execution_count": null,
      "outputs": []
    },
    {
      "cell_type": "code",
      "metadata": {
        "id": "msF_wk87HGNQ",
        "outputId": "35f65406-9517-406c-cc2b-f37efa483909",
        "colab": {
          "base_uri": "https://localhost:8080/",
          "height": 400
        }
      },
      "source": [
        "import seaborn as sns\n",
        "sns.lmplot(x='year', y='AverageVolume', hue='Date_Qtr', markers=['x', 'o', 'v', '^'],fit_reg=False, data=df_region)\n",
        "    "
      ],
      "execution_count": 46,
      "outputs": [
        {
          "output_type": "execute_result",
          "data": {
            "text/plain": [
              "<seaborn.axisgrid.FacetGrid at 0x7f2dfe515b00>"
            ]
          },
          "metadata": {
            "tags": []
          },
          "execution_count": 46
        },
        {
          "output_type": "display_data",
          "data": {
            "image/png": "[encoded data removed]",
            "text/plain": [
              "<Figure size 412.625x360 with 1 Axes>"
            ]
          },
          "metadata": {
            "tags": [],
            "needs_background": "light"
          }
        }
      ]
    },
    {
      "cell_type": "markdown",
      "metadata": {
        "id": "qZHbBFAP5RNx"
      },
      "source": [
        "## Basic Statistics"
      ]
    },
    {
      "cell_type": "code",
      "metadata": {
        "id": "c5zFV84x-RzI"
      },
      "source": [
        "pd.pandas.set_option('display.max_columns', None)\n",
        "pd.pandas.set_option('display.max_rows', None)"
      ],
      "execution_count": 47,
      "outputs": []
    },
    {
      "cell_type": "code",
      "metadata": {
        "id": "t3iWKYZd_qVF",
        "outputId": "e9a3b52f-5724-423e-b15a-0fb8310764b1",
        "colab": {
          "base_uri": "https://localhost:8080/",
          "height": 695
        }
      },
      "source": [
        "df_basic_stats = pd.DataFrame()\n",
        "types = df_avacado_sales.dtypes\n",
        "\n",
        "mean = round(df_avacado_sales.mean(),2)\n",
        "median = round(df_avacado_sales.median(),2)\n",
        "std = round(df_avacado_sales.std(),2)\n",
        "skewness = round(df_avacado_sales.skew(),2)\n",
        "kurtosis = round(df_avacado_sales.kurt(),2) \n",
        "\n",
        "df_basic_stats['types'] = types\n",
        "df_basic_stats['mean'] = mean\n",
        "df_basic_stats['median'] = median\n",
        "df_basic_stats['std'] = std\n",
        "df_basic_stats['skewness'] = skewness\n",
        "df_basic_stats['kurtosis'] = kurtosis\n",
        "\n",
        "df_basic_stats.fillna(value=' ', inplace=True)\n",
        "\n",
        "df_basic_stats.sort_values(by='types', ascending=False)\n",
        "#pd.DataFrame(df_babic_stats, columns=['mean','meadian','mode','skewness', 'kurtosis'])"
      ],
      "execution_count": 48,
      "outputs": [
        {
          "output_type": "stream",
          "text": [
            "/usr/local/lib/python3.6/dist-packages/ipykernel_launcher.py:4: FutureWarning: DataFrame.mean and DataFrame.median with numeric_only=None will include datetime64 and datetime64tz columns in a future version.\n",
            "  after removing the cwd from sys.path.\n",
            "/usr/local/lib/python3.6/dist-packages/ipykernel_launcher.py:5: FutureWarning: DataFrame.mean and DataFrame.median with numeric_only=None will include datetime64 and datetime64tz columns in a future version.\n",
            "  \"\"\"\n"
          ],
          "name": "stderr"
        },
        {
          "output_type": "execute_result",
          "data": {
            "text/html": [
              "<div>\n",
              "<style scoped>\n",
              "    .dataframe tbody tr th:only-of-type {\n",
              "        vertical-align: middle;\n",
              "    }\n",
              "\n",
              "    .dataframe tbody tr th {\n",
              "        vertical-align: top;\n",
              "    }\n",
              "\n",
              "    .dataframe thead th {\n",
              "        text-align: right;\n",
              "    }\n",
              "</style>\n",
              "<table border=\"1\" class=\"dataframe\">\n",
              "  <thead>\n",
              "    <tr style=\"text-align: right;\">\n",
              "      <th></th>\n",
              "      <th>types</th>\n",
              "      <th>mean</th>\n",
              "      <th>median</th>\n",
              "      <th>std</th>\n",
              "      <th>skewness</th>\n",
              "      <th>kurtosis</th>\n",
              "    </tr>\n",
              "  </thead>\n",
              "  <tbody>\n",
              "    <tr>\n",
              "      <th>region</th>\n",
              "      <td>object</td>\n",
              "      <td></td>\n",
              "      <td></td>\n",
              "      <td></td>\n",
              "      <td></td>\n",
              "      <td></td>\n",
              "    </tr>\n",
              "    <tr>\n",
              "      <th>type</th>\n",
              "      <td>object</td>\n",
              "      <td></td>\n",
              "      <td></td>\n",
              "      <td></td>\n",
              "      <td></td>\n",
              "      <td></td>\n",
              "    </tr>\n",
              "    <tr>\n",
              "      <th>Date</th>\n",
              "      <td>datetime64[ns]</td>\n",
              "      <td></td>\n",
              "      <td></td>\n",
              "      <td></td>\n",
              "      <td></td>\n",
              "      <td></td>\n",
              "    </tr>\n",
              "    <tr>\n",
              "      <th>Small_Bags</th>\n",
              "      <td>float64</td>\n",
              "      <td>182195</td>\n",
              "      <td>26362.8</td>\n",
              "      <td>746179</td>\n",
              "      <td>9.54</td>\n",
              "      <td>107.01</td>\n",
              "    </tr>\n",
              "    <tr>\n",
              "      <th>AveragePrice</th>\n",
              "      <td>float64</td>\n",
              "      <td>1.41</td>\n",
              "      <td>1.37</td>\n",
              "      <td>0.4</td>\n",
              "      <td>0.58</td>\n",
              "      <td>0.33</td>\n",
              "    </tr>\n",
              "    <tr>\n",
              "      <th>Large_Bags</th>\n",
              "      <td>float64</td>\n",
              "      <td>54338.1</td>\n",
              "      <td>2647.71</td>\n",
              "      <td>243966</td>\n",
              "      <td>9.8</td>\n",
              "      <td>118</td>\n",
              "    </tr>\n",
              "    <tr>\n",
              "      <th>XLarge_Bags</th>\n",
              "      <td>float64</td>\n",
              "      <td>3106.43</td>\n",
              "      <td>0</td>\n",
              "      <td>17692.9</td>\n",
              "      <td>13.14</td>\n",
              "      <td>233.6</td>\n",
              "    </tr>\n",
              "    <tr>\n",
              "      <th>Total_Bags</th>\n",
              "      <td>float64</td>\n",
              "      <td>239639</td>\n",
              "      <td>39743.8</td>\n",
              "      <td>986242</td>\n",
              "      <td>9.76</td>\n",
              "      <td>112.27</td>\n",
              "    </tr>\n",
              "    <tr>\n",
              "      <th>4770</th>\n",
              "      <td>float64</td>\n",
              "      <td>22839.7</td>\n",
              "      <td>184.99</td>\n",
              "      <td>107464</td>\n",
              "      <td>10.16</td>\n",
              "      <td>132.56</td>\n",
              "    </tr>\n",
              "    <tr>\n",
              "      <th>4225</th>\n",
              "      <td>float64</td>\n",
              "      <td>295155</td>\n",
              "      <td>29061</td>\n",
              "      <td>1.20412e+06</td>\n",
              "      <td>8.94</td>\n",
              "      <td>91.95</td>\n",
              "    </tr>\n",
              "    <tr>\n",
              "      <th>4046</th>\n",
              "      <td>float64</td>\n",
              "      <td>293008</td>\n",
              "      <td>8645.3</td>\n",
              "      <td>1.26499e+06</td>\n",
              "      <td>8.65</td>\n",
              "      <td>86.81</td>\n",
              "    </tr>\n",
              "    <tr>\n",
              "      <th>Total_Volume</th>\n",
              "      <td>float64</td>\n",
              "      <td>850644</td>\n",
              "      <td>107377</td>\n",
              "      <td>3.45355e+06</td>\n",
              "      <td>9.01</td>\n",
              "      <td>92.1</td>\n",
              "    </tr>\n",
              "    <tr>\n",
              "      <th>year</th>\n",
              "      <td>int64</td>\n",
              "      <td>2016.15</td>\n",
              "      <td>2016</td>\n",
              "      <td>0.94</td>\n",
              "      <td>0.22</td>\n",
              "      <td>-1.03</td>\n",
              "    </tr>\n",
              "    <tr>\n",
              "      <th>Date_Qtr</th>\n",
              "      <td>int64</td>\n",
              "      <td>2.4</td>\n",
              "      <td>2</td>\n",
              "      <td>1.15</td>\n",
              "      <td>0.11</td>\n",
              "      <td>-1.42</td>\n",
              "    </tr>\n",
              "    <tr>\n",
              "      <th>month</th>\n",
              "      <td>int64</td>\n",
              "      <td>6.18</td>\n",
              "      <td>6</td>\n",
              "      <td>3.53</td>\n",
              "      <td>0.11</td>\n",
              "      <td>-1.27</td>\n",
              "    </tr>\n",
              "    <tr>\n",
              "      <th>day</th>\n",
              "      <td>int64</td>\n",
              "      <td>15.66</td>\n",
              "      <td>16</td>\n",
              "      <td>8.78</td>\n",
              "      <td>0.01</td>\n",
              "      <td>-1.19</td>\n",
              "    </tr>\n",
              "    <tr>\n",
              "      <th>weekday</th>\n",
              "      <td>int64</td>\n",
              "      <td>6</td>\n",
              "      <td>6</td>\n",
              "      <td>0</td>\n",
              "      <td>0</td>\n",
              "      <td>0</td>\n",
              "    </tr>\n",
              "    <tr>\n",
              "      <th>IS_DUP</th>\n",
              "      <td>bool</td>\n",
              "      <td>0</td>\n",
              "      <td>0</td>\n",
              "      <td>0</td>\n",
              "      <td>0</td>\n",
              "      <td>0</td>\n",
              "    </tr>\n",
              "  </tbody>\n",
              "</table>\n",
              "</div>"
            ],
            "text/plain": [
              "                       types     mean   median          std skewness kurtosis\n",
              "region                object                                                 \n",
              "type                  object                                                 \n",
              "Date          datetime64[ns]                                                 \n",
              "Small_Bags           float64   182195  26362.8       746179     9.54   107.01\n",
              "AveragePrice         float64     1.41     1.37          0.4     0.58     0.33\n",
              "Large_Bags           float64  54338.1  2647.71       243966      9.8      118\n",
              "XLarge_Bags          float64  3106.43        0      17692.9    13.14    233.6\n",
              "Total_Bags           float64   239639  39743.8       986242     9.76   112.27\n",
              "4770                 float64  22839.7   184.99       107464    10.16   132.56\n",
              "4225                 float64   295155    29061  1.20412e+06     8.94    91.95\n",
              "4046                 float64   293008   8645.3  1.26499e+06     8.65    86.81\n",
              "Total_Volume         float64   850644   107377  3.45355e+06     9.01     92.1\n",
              "year                   int64  2016.15     2016         0.94     0.22    -1.03\n",
              "Date_Qtr               int64      2.4        2         1.15     0.11    -1.42\n",
              "month                  int64     6.18        6         3.53     0.11    -1.27\n",
              "day                    int64    15.66       16         8.78     0.01    -1.19\n",
              "weekday                int64        6        6            0        0        0\n",
              "IS_DUP                  bool        0        0            0        0        0"
            ]
          },
          "metadata": {
            "tags": []
          },
          "execution_count": 48
        }
      ]
    },
    {
      "cell_type": "code",
      "metadata": {
        "id": "D8td3SyWJJB0",
        "outputId": "723880ab-89c3-4d2e-849b-44ad432f10d2",
        "colab": {
          "base_uri": "https://localhost:8080/",
          "height": 282
        }
      },
      "source": [
        " a = np.array(df_avacado_sales.AveragePrice)\n",
        " df_avacado_sales.AveragePrice.plot(kind='line')\n",
        " a"
      ],
      "execution_count": 49,
      "outputs": [
        {
          "output_type": "execute_result",
          "data": {
            "text/plain": [
              "array([1.33, 1.35, 0.93, ..., 1.87, 1.93, 1.62])"
            ]
          },
          "metadata": {
            "tags": []
          },
          "execution_count": 49
        },
        {
          "output_type": "display_data",
          "data": {
            "image/png": "[encoded data removed]",
            "text/plain": [
              "<Figure size 432x288 with 1 Axes>"
            ]
          },
          "metadata": {
            "tags": [],
            "needs_background": "light"
          }
        }
      ]
    },
    {
      "cell_type": "markdown",
      "metadata": {
        "id": "3sBQyhO_ydkK"
      },
      "source": [
        "## Filter"
      ]
    },
    {
      "cell_type": "markdown",
      "metadata": {
        "id": "gKCea8otnabR"
      },
      "source": [
        "**Filter on region**"
      ]
    },
    {
      "cell_type": "code",
      "metadata": {
        "id": "EU8OK15oydz4",
        "outputId": "18328096-2016-4e89-eedc-7c406dcab6e8",
        "colab": {
          "base_uri": "https://localhost:8080/",
          "height": 309
        }
      },
      "source": [
        "df_avacado_sales_US = df_avacado_sales[df_avacado_sales.region == \"TotalUS\"]\n",
        "df_avacado_sales_US.head()"
      ],
      "execution_count": 50,
      "outputs": [
        {
          "output_type": "execute_result",
          "data": {
            "text/html": [
              "<div>\n",
              "<style scoped>\n",
              "    .dataframe tbody tr th:only-of-type {\n",
              "        vertical-align: middle;\n",
              "    }\n",
              "\n",
              "    .dataframe tbody tr th {\n",
              "        vertical-align: top;\n",
              "    }\n",
              "\n",
              "    .dataframe thead th {\n",
              "        text-align: right;\n",
              "    }\n",
              "</style>\n",
              "<table border=\"1\" class=\"dataframe\">\n",
              "  <thead>\n",
              "    <tr style=\"text-align: right;\">\n",
              "      <th></th>\n",
              "      <th>Date</th>\n",
              "      <th>AveragePrice</th>\n",
              "      <th>Total_Volume</th>\n",
              "      <th>4046</th>\n",
              "      <th>4225</th>\n",
              "      <th>4770</th>\n",
              "      <th>Total_Bags</th>\n",
              "      <th>Small_Bags</th>\n",
              "      <th>Large_Bags</th>\n",
              "      <th>XLarge_Bags</th>\n",
              "      <th>type</th>\n",
              "      <th>year</th>\n",
              "      <th>region</th>\n",
              "      <th>Date_Qtr</th>\n",
              "      <th>month</th>\n",
              "      <th>day</th>\n",
              "      <th>weekday</th>\n",
              "      <th>IS_DUP</th>\n",
              "    </tr>\n",
              "  </thead>\n",
              "  <tbody>\n",
              "    <tr>\n",
              "      <th>2652</th>\n",
              "      <td>2015-12-27</td>\n",
              "      <td>0.95</td>\n",
              "      <td>27297983.67</td>\n",
              "      <td>9626901.09</td>\n",
              "      <td>10197890.05</td>\n",
              "      <td>1184340.09</td>\n",
              "      <td>6288852.44</td>\n",
              "      <td>4850404.09</td>\n",
              "      <td>1252626.31</td>\n",
              "      <td>185822.04</td>\n",
              "      <td>conventional</td>\n",
              "      <td>2015</td>\n",
              "      <td>TotalUS</td>\n",
              "      <td>4</td>\n",
              "      <td>12</td>\n",
              "      <td>27</td>\n",
              "      <td>6</td>\n",
              "      <td>False</td>\n",
              "    </tr>\n",
              "    <tr>\n",
              "      <th>2653</th>\n",
              "      <td>2015-12-20</td>\n",
              "      <td>0.98</td>\n",
              "      <td>25083647.17</td>\n",
              "      <td>8710021.76</td>\n",
              "      <td>9329861.85</td>\n",
              "      <td>1201020.01</td>\n",
              "      <td>5842743.55</td>\n",
              "      <td>4618389.66</td>\n",
              "      <td>1025048.77</td>\n",
              "      <td>199305.12</td>\n",
              "      <td>conventional</td>\n",
              "      <td>2015</td>\n",
              "      <td>TotalUS</td>\n",
              "      <td>4</td>\n",
              "      <td>12</td>\n",
              "      <td>20</td>\n",
              "      <td>6</td>\n",
              "      <td>False</td>\n",
              "    </tr>\n",
              "    <tr>\n",
              "      <th>2654</th>\n",
              "      <td>2015-12-13</td>\n",
              "      <td>0.93</td>\n",
              "      <td>28041335.38</td>\n",
              "      <td>9855053.66</td>\n",
              "      <td>10805838.91</td>\n",
              "      <td>1016163.17</td>\n",
              "      <td>6364279.64</td>\n",
              "      <td>4964462.13</td>\n",
              "      <td>1371440.28</td>\n",
              "      <td>28377.23</td>\n",
              "      <td>conventional</td>\n",
              "      <td>2015</td>\n",
              "      <td>TotalUS</td>\n",
              "      <td>4</td>\n",
              "      <td>12</td>\n",
              "      <td>13</td>\n",
              "      <td>6</td>\n",
              "      <td>False</td>\n",
              "    </tr>\n",
              "    <tr>\n",
              "      <th>2655</th>\n",
              "      <td>2015-12-06</td>\n",
              "      <td>0.89</td>\n",
              "      <td>28800396.57</td>\n",
              "      <td>9405464.36</td>\n",
              "      <td>12160838.62</td>\n",
              "      <td>931830.63</td>\n",
              "      <td>6302262.96</td>\n",
              "      <td>5005077.36</td>\n",
              "      <td>1233956.21</td>\n",
              "      <td>63229.39</td>\n",
              "      <td>conventional</td>\n",
              "      <td>2015</td>\n",
              "      <td>TotalUS</td>\n",
              "      <td>4</td>\n",
              "      <td>12</td>\n",
              "      <td>6</td>\n",
              "      <td>6</td>\n",
              "      <td>False</td>\n",
              "    </tr>\n",
              "    <tr>\n",
              "      <th>2656</th>\n",
              "      <td>2015-11-29</td>\n",
              "      <td>0.99</td>\n",
              "      <td>22617999.38</td>\n",
              "      <td>8094803.56</td>\n",
              "      <td>9003178.41</td>\n",
              "      <td>731008.41</td>\n",
              "      <td>4789009.00</td>\n",
              "      <td>3901953.04</td>\n",
              "      <td>856560.34</td>\n",
              "      <td>30495.62</td>\n",
              "      <td>conventional</td>\n",
              "      <td>2015</td>\n",
              "      <td>TotalUS</td>\n",
              "      <td>4</td>\n",
              "      <td>11</td>\n",
              "      <td>29</td>\n",
              "      <td>6</td>\n",
              "      <td>False</td>\n",
              "    </tr>\n",
              "  </tbody>\n",
              "</table>\n",
              "</div>"
            ],
            "text/plain": [
              "           Date  AveragePrice  Total_Volume        4046         4225  \\\n",
              "2652 2015-12-27          0.95   27297983.67  9626901.09  10197890.05   \n",
              "2653 2015-12-20          0.98   25083647.17  8710021.76   9329861.85   \n",
              "2654 2015-12-13          0.93   28041335.38  9855053.66  10805838.91   \n",
              "2655 2015-12-06          0.89   28800396.57  9405464.36  12160838.62   \n",
              "2656 2015-11-29          0.99   22617999.38  8094803.56   9003178.41   \n",
              "\n",
              "            4770  Total_Bags  Small_Bags  Large_Bags  XLarge_Bags  \\\n",
              "2652  1184340.09  6288852.44  4850404.09  1252626.31    185822.04   \n",
              "2653  1201020.01  5842743.55  4618389.66  1025048.77    199305.12   \n",
              "2654  1016163.17  6364279.64  4964462.13  1371440.28     28377.23   \n",
              "2655   931830.63  6302262.96  5005077.36  1233956.21     63229.39   \n",
              "2656   731008.41  4789009.00  3901953.04   856560.34     30495.62   \n",
              "\n",
              "              type  year   region  Date_Qtr  month  day  weekday  IS_DUP  \n",
              "2652  conventional  2015  TotalUS         4     12   27        6   False  \n",
              "2653  conventional  2015  TotalUS         4     12   20        6   False  \n",
              "2654  conventional  2015  TotalUS         4     12   13        6   False  \n",
              "2655  conventional  2015  TotalUS         4     12    6        6   False  \n",
              "2656  conventional  2015  TotalUS         4     11   29        6   False  "
            ]
          },
          "metadata": {
            "tags": []
          },
          "execution_count": 50
        }
      ]
    },
    {
      "cell_type": "markdown",
      "metadata": {
        "id": "ppxSh_q3ngH5"
      },
      "source": [
        "**Filter on Year**"
      ]
    },
    {
      "cell_type": "code",
      "metadata": {
        "id": "c96kXBeupH3j",
        "outputId": "4ccb9848-acea-4d11-9752-0f1df8f7a3b6",
        "colab": {
          "base_uri": "https://localhost:8080/",
          "height": 289
        }
      },
      "source": [
        "df_avacado_sales_year2017 = df_avacado_sales[df_avacado_sales.year == 2017]\n",
        "df_avacado_sales_year2017.head()\n"
      ],
      "execution_count": 51,
      "outputs": [
        {
          "output_type": "execute_result",
          "data": {
            "text/html": [
              "<div>\n",
              "<style scoped>\n",
              "    .dataframe tbody tr th:only-of-type {\n",
              "        vertical-align: middle;\n",
              "    }\n",
              "\n",
              "    .dataframe tbody tr th {\n",
              "        vertical-align: top;\n",
              "    }\n",
              "\n",
              "    .dataframe thead th {\n",
              "        text-align: right;\n",
              "    }\n",
              "</style>\n",
              "<table border=\"1\" class=\"dataframe\">\n",
              "  <thead>\n",
              "    <tr style=\"text-align: right;\">\n",
              "      <th></th>\n",
              "      <th>Date</th>\n",
              "      <th>AveragePrice</th>\n",
              "      <th>Total_Volume</th>\n",
              "      <th>4046</th>\n",
              "      <th>4225</th>\n",
              "      <th>4770</th>\n",
              "      <th>Total_Bags</th>\n",
              "      <th>Small_Bags</th>\n",
              "      <th>Large_Bags</th>\n",
              "      <th>XLarge_Bags</th>\n",
              "      <th>type</th>\n",
              "      <th>year</th>\n",
              "      <th>region</th>\n",
              "      <th>Date_Qtr</th>\n",
              "      <th>month</th>\n",
              "      <th>day</th>\n",
              "      <th>weekday</th>\n",
              "      <th>IS_DUP</th>\n",
              "    </tr>\n",
              "  </thead>\n",
              "  <tbody>\n",
              "    <tr>\n",
              "      <th>5616</th>\n",
              "      <td>2017-12-31</td>\n",
              "      <td>1.47</td>\n",
              "      <td>113514.42</td>\n",
              "      <td>2622.70</td>\n",
              "      <td>101135.53</td>\n",
              "      <td>20.25</td>\n",
              "      <td>9735.94</td>\n",
              "      <td>5556.98</td>\n",
              "      <td>4178.96</td>\n",
              "      <td>0.0</td>\n",
              "      <td>conventional</td>\n",
              "      <td>2017</td>\n",
              "      <td>Albany</td>\n",
              "      <td>4</td>\n",
              "      <td>12</td>\n",
              "      <td>31</td>\n",
              "      <td>6</td>\n",
              "      <td>False</td>\n",
              "    </tr>\n",
              "    <tr>\n",
              "      <th>5617</th>\n",
              "      <td>2017-12-24</td>\n",
              "      <td>1.45</td>\n",
              "      <td>77039.09</td>\n",
              "      <td>2811.71</td>\n",
              "      <td>58592.23</td>\n",
              "      <td>19.06</td>\n",
              "      <td>15616.09</td>\n",
              "      <td>6863.18</td>\n",
              "      <td>8752.91</td>\n",
              "      <td>0.0</td>\n",
              "      <td>conventional</td>\n",
              "      <td>2017</td>\n",
              "      <td>Albany</td>\n",
              "      <td>4</td>\n",
              "      <td>12</td>\n",
              "      <td>24</td>\n",
              "      <td>6</td>\n",
              "      <td>False</td>\n",
              "    </tr>\n",
              "    <tr>\n",
              "      <th>5618</th>\n",
              "      <td>2017-12-17</td>\n",
              "      <td>1.43</td>\n",
              "      <td>70677.56</td>\n",
              "      <td>2578.95</td>\n",
              "      <td>50811.52</td>\n",
              "      <td>79.18</td>\n",
              "      <td>17207.91</td>\n",
              "      <td>8914.13</td>\n",
              "      <td>8293.78</td>\n",
              "      <td>0.0</td>\n",
              "      <td>conventional</td>\n",
              "      <td>2017</td>\n",
              "      <td>Albany</td>\n",
              "      <td>4</td>\n",
              "      <td>12</td>\n",
              "      <td>17</td>\n",
              "      <td>6</td>\n",
              "      <td>False</td>\n",
              "    </tr>\n",
              "    <tr>\n",
              "      <th>5619</th>\n",
              "      <td>2017-12-10</td>\n",
              "      <td>1.29</td>\n",
              "      <td>92325.53</td>\n",
              "      <td>3220.05</td>\n",
              "      <td>75147.56</td>\n",
              "      <td>104.36</td>\n",
              "      <td>13853.56</td>\n",
              "      <td>7268.21</td>\n",
              "      <td>6585.35</td>\n",
              "      <td>0.0</td>\n",
              "      <td>conventional</td>\n",
              "      <td>2017</td>\n",
              "      <td>Albany</td>\n",
              "      <td>4</td>\n",
              "      <td>12</td>\n",
              "      <td>10</td>\n",
              "      <td>6</td>\n",
              "      <td>False</td>\n",
              "    </tr>\n",
              "    <tr>\n",
              "      <th>5620</th>\n",
              "      <td>2017-12-03</td>\n",
              "      <td>1.39</td>\n",
              "      <td>139970.00</td>\n",
              "      <td>3772.00</td>\n",
              "      <td>126551.00</td>\n",
              "      <td>136.00</td>\n",
              "      <td>9511.00</td>\n",
              "      <td>7061.00</td>\n",
              "      <td>2450.00</td>\n",
              "      <td>0.0</td>\n",
              "      <td>conventional</td>\n",
              "      <td>2017</td>\n",
              "      <td>Albany</td>\n",
              "      <td>4</td>\n",
              "      <td>12</td>\n",
              "      <td>3</td>\n",
              "      <td>6</td>\n",
              "      <td>False</td>\n",
              "    </tr>\n",
              "  </tbody>\n",
              "</table>\n",
              "</div>"
            ],
            "text/plain": [
              "           Date  AveragePrice  Total_Volume     4046       4225    4770  \\\n",
              "5616 2017-12-31          1.47     113514.42  2622.70  101135.53   20.25   \n",
              "5617 2017-12-24          1.45      77039.09  2811.71   58592.23   19.06   \n",
              "5618 2017-12-17          1.43      70677.56  2578.95   50811.52   79.18   \n",
              "5619 2017-12-10          1.29      92325.53  3220.05   75147.56  104.36   \n",
              "5620 2017-12-03          1.39     139970.00  3772.00  126551.00  136.00   \n",
              "\n",
              "      Total_Bags  Small_Bags  Large_Bags  XLarge_Bags          type  year  \\\n",
              "5616     9735.94     5556.98     4178.96          0.0  conventional  2017   \n",
              "5617    15616.09     6863.18     8752.91          0.0  conventional  2017   \n",
              "5618    17207.91     8914.13     8293.78          0.0  conventional  2017   \n",
              "5619    13853.56     7268.21     6585.35          0.0  conventional  2017   \n",
              "5620     9511.00     7061.00     2450.00          0.0  conventional  2017   \n",
              "\n",
              "      region  Date_Qtr  month  day  weekday  IS_DUP  \n",
              "5616  Albany         4     12   31        6   False  \n",
              "5617  Albany         4     12   24        6   False  \n",
              "5618  Albany         4     12   17        6   False  \n",
              "5619  Albany         4     12   10        6   False  \n",
              "5620  Albany         4     12    3        6   False  "
            ]
          },
          "metadata": {
            "tags": []
          },
          "execution_count": 51
        }
      ]
    },
    {
      "cell_type": "code",
      "metadata": {
        "id": "wgM_elKiqIZK",
        "outputId": "fa0f07da-0866-41f5-adf8-a39d59643acf",
        "colab": {
          "base_uri": "https://localhost:8080/",
          "height": 282
        }
      },
      "source": [
        "df_avacado_sales[df_avacado_sales.year == 2015].AveragePrice.plot(color='r')\n",
        "df_avacado_sales[df_avacado_sales.year == 2016].AveragePrice.plot(color='g')\n",
        "df_avacado_sales[df_avacado_sales.year == 2017].AveragePrice.plot(color='c')\n"
      ],
      "execution_count": 34,
      "outputs": [
        {
          "output_type": "execute_result",
          "data": {
            "text/plain": [
              "<matplotlib.axes._subplots.AxesSubplot at 0x7f2dfe5dc908>"
            ]
          },
          "metadata": {
            "tags": []
          },
          "execution_count": 34
        },
        {
          "output_type": "display_data",
          "data": {
            "image/png": "[encoded data removed]",
            "text/plain": [
              "<Figure size 432x288 with 1 Axes>"
            ]
          },
          "metadata": {
            "tags": [],
            "needs_background": "light"
          }
        }
      ]
    },
    {
      "cell_type": "code",
      "metadata": {
        "id": "OQEPxB5T5vtl",
        "outputId": "62de7593-72dc-480c-a0a1-c82b255db53e",
        "colab": {
          "base_uri": "https://localhost:8080/",
          "height": 282
        }
      },
      "source": [
        "plt.imshow(X=df_region)"
      ],
      "execution_count": 52,
      "outputs": [
        {
          "output_type": "execute_result",
          "data": {
            "text/plain": [
              "<matplotlib.image.AxesImage at 0x7f2df4d800f0>"
            ]
          },
          "metadata": {
            "tags": []
          },
          "execution_count": 52
        },
        {
          "output_type": "display_data",
          "data": {
            "image/png": "[encoded data removed]",
            "text/plain": [
              "<Figure size 432x288 with 1 Axes>"
            ]
          },
          "metadata": {
            "tags": [],
            "needs_background": "light"
          }
        }
      ]
    },
    {
      "cell_type": "code",
      "metadata": {
        "id": "ulF1fUrjDDL1"
      },
      "source": [
        ""
      ],
      "execution_count": null,
      "outputs": []
    },
    {
      "cell_type": "markdown",
      "metadata": {
        "id": "cRyAIrQdEiJt"
      },
      "source": [
        "## Lookups"
      ]
    },
    {
      "cell_type": "markdown",
      "metadata": {
        "id": "v8ZpLi3Qq3NC"
      },
      "source": [
        "**Lookup information basd on values in a cell**"
      ]
    },
    {
      "cell_type": "code",
      "metadata": {
        "id": "OGdq6Gm4TkR5",
        "outputId": "fcc453ef-d46e-4442-d50c-d848b41f9dfd",
        "colab": {
          "base_uri": "https://localhost:8080/",
          "height": 204
        }
      },
      "source": [
        "df_summer_olympics = pd.read_csv('https://raw.githubusercontent.com/insaid2018/Term-1/master/Data/Projects/summer%20olympics.csv')\n",
        "df_summer_olympics.head()\n",
        "\n"
      ],
      "execution_count": 2,
      "outputs": [
        {
          "output_type": "execute_result",
          "data": {
            "text/html": [
              "<div>\n",
              "<style scoped>\n",
              "    .dataframe tbody tr th:only-of-type {\n",
              "        vertical-align: middle;\n",
              "    }\n",
              "\n",
              "    .dataframe tbody tr th {\n",
              "        vertical-align: top;\n",
              "    }\n",
              "\n",
              "    .dataframe thead th {\n",
              "        text-align: right;\n",
              "    }\n",
              "</style>\n",
              "<table border=\"1\" class=\"dataframe\">\n",
              "  <thead>\n",
              "    <tr style=\"text-align: right;\">\n",
              "      <th></th>\n",
              "      <th>Year</th>\n",
              "      <th>City</th>\n",
              "      <th>Sport</th>\n",
              "      <th>Discipline</th>\n",
              "      <th>Athlete</th>\n",
              "      <th>Country</th>\n",
              "      <th>Gender</th>\n",
              "      <th>Event</th>\n",
              "      <th>Medal</th>\n",
              "    </tr>\n",
              "  </thead>\n",
              "  <tbody>\n",
              "    <tr>\n",
              "      <th>0</th>\n",
              "      <td>1896</td>\n",
              "      <td>Athens</td>\n",
              "      <td>Aquatics</td>\n",
              "      <td>Swimming</td>\n",
              "      <td>HAJOS, Alfred</td>\n",
              "      <td>HUN</td>\n",
              "      <td>Men</td>\n",
              "      <td>100M Freestyle</td>\n",
              "      <td>Gold</td>\n",
              "    </tr>\n",
              "    <tr>\n",
              "      <th>1</th>\n",
              "      <td>1896</td>\n",
              "      <td>Athens</td>\n",
              "      <td>Aquatics</td>\n",
              "      <td>Swimming</td>\n",
              "      <td>HERSCHMANN, Otto</td>\n",
              "      <td>AUT</td>\n",
              "      <td>Men</td>\n",
              "      <td>100M Freestyle</td>\n",
              "      <td>Silver</td>\n",
              "    </tr>\n",
              "    <tr>\n",
              "      <th>2</th>\n",
              "      <td>1896</td>\n",
              "      <td>Athens</td>\n",
              "      <td>Aquatics</td>\n",
              "      <td>Swimming</td>\n",
              "      <td>DRIVAS, Dimitrios</td>\n",
              "      <td>GRE</td>\n",
              "      <td>Men</td>\n",
              "      <td>100M Freestyle For Sailors</td>\n",
              "      <td>Bronze</td>\n",
              "    </tr>\n",
              "    <tr>\n",
              "      <th>3</th>\n",
              "      <td>1896</td>\n",
              "      <td>Athens</td>\n",
              "      <td>Aquatics</td>\n",
              "      <td>Swimming</td>\n",
              "      <td>MALOKINIS, Ioannis</td>\n",
              "      <td>GRE</td>\n",
              "      <td>Men</td>\n",
              "      <td>100M Freestyle For Sailors</td>\n",
              "      <td>Gold</td>\n",
              "    </tr>\n",
              "    <tr>\n",
              "      <th>4</th>\n",
              "      <td>1896</td>\n",
              "      <td>Athens</td>\n",
              "      <td>Aquatics</td>\n",
              "      <td>Swimming</td>\n",
              "      <td>CHASAPIS, Spiridon</td>\n",
              "      <td>GRE</td>\n",
              "      <td>Men</td>\n",
              "      <td>100M Freestyle For Sailors</td>\n",
              "      <td>Silver</td>\n",
              "    </tr>\n",
              "  </tbody>\n",
              "</table>\n",
              "</div>"
            ],
            "text/plain": [
              "   Year    City     Sport  ... Gender                       Event   Medal\n",
              "0  1896  Athens  Aquatics  ...    Men              100M Freestyle    Gold\n",
              "1  1896  Athens  Aquatics  ...    Men              100M Freestyle  Silver\n",
              "2  1896  Athens  Aquatics  ...    Men  100M Freestyle For Sailors  Bronze\n",
              "3  1896  Athens  Aquatics  ...    Men  100M Freestyle For Sailors    Gold\n",
              "4  1896  Athens  Aquatics  ...    Men  100M Freestyle For Sailors  Silver\n",
              "\n",
              "[5 rows x 9 columns]"
            ]
          },
          "metadata": {
            "tags": []
          },
          "execution_count": 2
        }
      ]
    },
    {
      "cell_type": "code",
      "metadata": {
        "id": "4_OwbxUhT2zl",
        "outputId": "18160be7-040c-4364-e85d-44f66a9cd706",
        "colab": {
          "base_uri": "https://localhost:8080/",
          "height": 419
        }
      },
      "source": [
        "(df_summer_olympics[(df_summer_olympics['Medal'].str.match('Gold')) & (df_summer_olympics['Sport'].str.match('Athletics'))])\n",
        "                                                                      "
      ],
      "execution_count": 3,
      "outputs": [
        {
          "output_type": "execute_result",
          "data": {
            "text/html": [
              "<div>\n",
              "<style scoped>\n",
              "    .dataframe tbody tr th:only-of-type {\n",
              "        vertical-align: middle;\n",
              "    }\n",
              "\n",
              "    .dataframe tbody tr th {\n",
              "        vertical-align: top;\n",
              "    }\n",
              "\n",
              "    .dataframe thead th {\n",
              "        text-align: right;\n",
              "    }\n",
              "</style>\n",
              "<table border=\"1\" class=\"dataframe\">\n",
              "  <thead>\n",
              "    <tr style=\"text-align: right;\">\n",
              "      <th></th>\n",
              "      <th>Year</th>\n",
              "      <th>City</th>\n",
              "      <th>Sport</th>\n",
              "      <th>Discipline</th>\n",
              "      <th>Athlete</th>\n",
              "      <th>Country</th>\n",
              "      <th>Gender</th>\n",
              "      <th>Event</th>\n",
              "      <th>Medal</th>\n",
              "    </tr>\n",
              "  </thead>\n",
              "  <tbody>\n",
              "    <tr>\n",
              "      <th>13</th>\n",
              "      <td>1896</td>\n",
              "      <td>Athens</td>\n",
              "      <td>Athletics</td>\n",
              "      <td>Athletics</td>\n",
              "      <td>BURKE, Thomas</td>\n",
              "      <td>USA</td>\n",
              "      <td>Men</td>\n",
              "      <td>100M</td>\n",
              "      <td>Gold</td>\n",
              "    </tr>\n",
              "    <tr>\n",
              "      <th>15</th>\n",
              "      <td>1896</td>\n",
              "      <td>Athens</td>\n",
              "      <td>Athletics</td>\n",
              "      <td>Athletics</td>\n",
              "      <td>CURTIS, Thomas</td>\n",
              "      <td>USA</td>\n",
              "      <td>Men</td>\n",
              "      <td>110M Hurdles</td>\n",
              "      <td>Gold</td>\n",
              "    </tr>\n",
              "    <tr>\n",
              "      <th>18</th>\n",
              "      <td>1896</td>\n",
              "      <td>Athens</td>\n",
              "      <td>Athletics</td>\n",
              "      <td>Athletics</td>\n",
              "      <td>FLACK, Edwin</td>\n",
              "      <td>AUS</td>\n",
              "      <td>Men</td>\n",
              "      <td>1500M</td>\n",
              "      <td>Gold</td>\n",
              "    </tr>\n",
              "    <tr>\n",
              "      <th>21</th>\n",
              "      <td>1896</td>\n",
              "      <td>Athens</td>\n",
              "      <td>Athletics</td>\n",
              "      <td>Athletics</td>\n",
              "      <td>BURKE, Thomas</td>\n",
              "      <td>USA</td>\n",
              "      <td>Men</td>\n",
              "      <td>400M</td>\n",
              "      <td>Gold</td>\n",
              "    </tr>\n",
              "    <tr>\n",
              "      <th>24</th>\n",
              "      <td>1896</td>\n",
              "      <td>Athens</td>\n",
              "      <td>Athletics</td>\n",
              "      <td>Athletics</td>\n",
              "      <td>FLACK, Edwin</td>\n",
              "      <td>AUS</td>\n",
              "      <td>Men</td>\n",
              "      <td>800M</td>\n",
              "      <td>Gold</td>\n",
              "    </tr>\n",
              "    <tr>\n",
              "      <th>...</th>\n",
              "      <td>...</td>\n",
              "      <td>...</td>\n",
              "      <td>...</td>\n",
              "      <td>...</td>\n",
              "      <td>...</td>\n",
              "      <td>...</td>\n",
              "      <td>...</td>\n",
              "      <td>...</td>\n",
              "      <td>...</td>\n",
              "    </tr>\n",
              "    <tr>\n",
              "      <th>29757</th>\n",
              "      <td>2012</td>\n",
              "      <td>London</td>\n",
              "      <td>Athletics</td>\n",
              "      <td>Athletics</td>\n",
              "      <td>STUCZYNSKI, Jennifer</td>\n",
              "      <td>USA</td>\n",
              "      <td>Women</td>\n",
              "      <td>Pole Vault</td>\n",
              "      <td>Gold</td>\n",
              "    </tr>\n",
              "    <tr>\n",
              "      <th>29760</th>\n",
              "      <td>2012</td>\n",
              "      <td>London</td>\n",
              "      <td>Athletics</td>\n",
              "      <td>Athletics</td>\n",
              "      <td>MAJEWSKI, Tomasz</td>\n",
              "      <td>POL</td>\n",
              "      <td>Men</td>\n",
              "      <td>Shot Put</td>\n",
              "      <td>Gold</td>\n",
              "    </tr>\n",
              "    <tr>\n",
              "      <th>29763</th>\n",
              "      <td>2012</td>\n",
              "      <td>London</td>\n",
              "      <td>Athletics</td>\n",
              "      <td>Athletics</td>\n",
              "      <td>ADAMS, Valerie</td>\n",
              "      <td>NZL</td>\n",
              "      <td>Women</td>\n",
              "      <td>Shot Put</td>\n",
              "      <td>Gold</td>\n",
              "    </tr>\n",
              "    <tr>\n",
              "      <th>29766</th>\n",
              "      <td>2012</td>\n",
              "      <td>London</td>\n",
              "      <td>Athletics</td>\n",
              "      <td>Athletics</td>\n",
              "      <td>TAYLOR, Christian</td>\n",
              "      <td>USA</td>\n",
              "      <td>Men</td>\n",
              "      <td>Triple Jump</td>\n",
              "      <td>Gold</td>\n",
              "    </tr>\n",
              "    <tr>\n",
              "      <th>29769</th>\n",
              "      <td>2012</td>\n",
              "      <td>London</td>\n",
              "      <td>Athletics</td>\n",
              "      <td>Athletics</td>\n",
              "      <td>RYPAKOVA, Olga</td>\n",
              "      <td>KAZ</td>\n",
              "      <td>Women</td>\n",
              "      <td>Triple Jump</td>\n",
              "      <td>Gold</td>\n",
              "    </tr>\n",
              "  </tbody>\n",
              "</table>\n",
              "<p>1215 rows × 9 columns</p>\n",
              "</div>"
            ],
            "text/plain": [
              "       Year    City      Sport Discipline  ... Country Gender         Event Medal\n",
              "13     1896  Athens  Athletics  Athletics  ...     USA    Men          100M  Gold\n",
              "15     1896  Athens  Athletics  Athletics  ...     USA    Men  110M Hurdles  Gold\n",
              "18     1896  Athens  Athletics  Athletics  ...     AUS    Men         1500M  Gold\n",
              "21     1896  Athens  Athletics  Athletics  ...     USA    Men          400M  Gold\n",
              "24     1896  Athens  Athletics  Athletics  ...     AUS    Men          800M  Gold\n",
              "...     ...     ...        ...        ...  ...     ...    ...           ...   ...\n",
              "29757  2012  London  Athletics  Athletics  ...     USA  Women    Pole Vault  Gold\n",
              "29760  2012  London  Athletics  Athletics  ...     POL    Men      Shot Put  Gold\n",
              "29763  2012  London  Athletics  Athletics  ...     NZL  Women      Shot Put  Gold\n",
              "29766  2012  London  Athletics  Athletics  ...     USA    Men   Triple Jump  Gold\n",
              "29769  2012  London  Athletics  Athletics  ...     KAZ  Women   Triple Jump  Gold\n",
              "\n",
              "[1215 rows x 9 columns]"
            ]
          },
          "metadata": {
            "tags": []
          },
          "execution_count": 3
        }
      ]
    },
    {
      "cell_type": "code",
      "metadata": {
        "id": "IkVlpZsZJixe",
        "outputId": "fb471c18-984c-4de6-db82-a897c9a285f9",
        "colab": {
          "base_uri": "https://localhost:8080/",
          "height": 204
        }
      },
      "source": [
        "df_summer_olympics_year_discipline = pd.DataFrame(df_summer_olympics.groupby(['Year', 'Sport'])['Discipline'].size())\n",
        "df_summer_olympics_year_discipline.reset_index(inplace=True)\n",
        "df_summer_olympics_year_discipline.head()"
      ],
      "execution_count": 4,
      "outputs": [
        {
          "output_type": "execute_result",
          "data": {
            "text/html": [
              "<div>\n",
              "<style scoped>\n",
              "    .dataframe tbody tr th:only-of-type {\n",
              "        vertical-align: middle;\n",
              "    }\n",
              "\n",
              "    .dataframe tbody tr th {\n",
              "        vertical-align: top;\n",
              "    }\n",
              "\n",
              "    .dataframe thead th {\n",
              "        text-align: right;\n",
              "    }\n",
              "</style>\n",
              "<table border=\"1\" class=\"dataframe\">\n",
              "  <thead>\n",
              "    <tr style=\"text-align: right;\">\n",
              "      <th></th>\n",
              "      <th>Year</th>\n",
              "      <th>Sport</th>\n",
              "      <th>Discipline</th>\n",
              "    </tr>\n",
              "  </thead>\n",
              "  <tbody>\n",
              "    <tr>\n",
              "      <th>0</th>\n",
              "      <td>1896</td>\n",
              "      <td>Aquatics</td>\n",
              "      <td>11</td>\n",
              "    </tr>\n",
              "    <tr>\n",
              "      <th>1</th>\n",
              "      <td>1896</td>\n",
              "      <td>Athletics</td>\n",
              "      <td>37</td>\n",
              "    </tr>\n",
              "    <tr>\n",
              "      <th>2</th>\n",
              "      <td>1896</td>\n",
              "      <td>Cycling</td>\n",
              "      <td>16</td>\n",
              "    </tr>\n",
              "    <tr>\n",
              "      <th>3</th>\n",
              "      <td>1896</td>\n",
              "      <td>Fencing</td>\n",
              "      <td>8</td>\n",
              "    </tr>\n",
              "    <tr>\n",
              "      <th>4</th>\n",
              "      <td>1896</td>\n",
              "      <td>Gymnastics</td>\n",
              "      <td>45</td>\n",
              "    </tr>\n",
              "  </tbody>\n",
              "</table>\n",
              "</div>"
            ],
            "text/plain": [
              "   Year       Sport  Discipline\n",
              "0  1896    Aquatics          11\n",
              "1  1896   Athletics          37\n",
              "2  1896     Cycling          16\n",
              "3  1896     Fencing           8\n",
              "4  1896  Gymnastics          45"
            ]
          },
          "metadata": {
            "tags": []
          },
          "execution_count": 4
        }
      ]
    },
    {
      "cell_type": "code",
      "metadata": {
        "id": "1hp6PaTNFrhF",
        "outputId": "6daa6eb0-e65d-4727-f833-6342c073c223",
        "colab": {
          "base_uri": "https://localhost:8080/",
          "height": 621
        }
      },
      "source": [
        "df_summer_olympics_year_sport = pd.DataFrame(df_summer_olympics.groupby(['Year'])['Sport'].size())\n",
        "df_summer_olympics_year_sport.reset_index(inplace=True)\n",
        "df_summer_olympics_year_sport.head()\n",
        "\n",
        "plt.figure(figsize=(20,10))\n",
        "sns.barplot(data=df_summer_olympics_year_sport, x='Year', y='Sport' )\n",
        "plt.xticks(rotation=90);"
      ],
      "execution_count": 6,
      "outputs": [
        {
          "output_type": "display_data",
          "data": {
            "image/png": "[encoded data removed]",
            "text/plain": [
              "<Figure size 1440x720 with 1 Axes>"
            ]
          },
          "metadata": {
            "tags": [],
            "needs_background": "light"
          }
        }
      ]
    },
    {
      "cell_type": "code",
      "metadata": {
        "id": "asIAzbYDGWlZ",
        "outputId": "61d77193-b1c2-495c-ad36-7a09d65a0b2f",
        "colab": {
          "base_uri": "https://localhost:8080/",
          "height": 690
        }
      },
      "source": [
        "df_summer_olympics_year_sport_discipline = pd.DataFrame(df_summer_olympics.groupby(['Year','Sport'])['Discipline'].count())\n",
        "df_summer_olympics_year_sport_discipline.reset_index(inplace=True)\n",
        "df_summer_olympics_year_sport_discipline.head()\n",
        "\n",
        "plt.figure(figsize=(20,10))\n",
        "sns.barplot(data=df_summer_olympics_year_sport_discipline.sort_values(by='Discipline', ascending=False), x='Sport', y='Discipline' )\n",
        "plt.xticks(rotation=90);"
      ],
      "execution_count": 7,
      "outputs": [
        {
          "output_type": "display_data",
          "data": {
            "image/png": "[encoded data removed]",
            "text/plain": [
              "<Figure size 1440x720 with 1 Axes>"
            ]
          },
          "metadata": {
            "tags": [],
            "needs_background": "light"
          }
        }
      ]
    },
    {
      "cell_type": "code",
      "metadata": {
        "id": "tBO2hGDxGApr",
        "outputId": "fcc74b3a-5b5c-4e02-908c-0e89e62a48b1",
        "colab": {
          "base_uri": "https://localhost:8080/",
          "height": 34
        }
      },
      "source": [
        "len(df_summer_olympics.Sport.unique())"
      ],
      "execution_count": 8,
      "outputs": [
        {
          "output_type": "execute_result",
          "data": {
            "text/plain": [
              "43"
            ]
          },
          "metadata": {
            "tags": []
          },
          "execution_count": 8
        }
      ]
    },
    {
      "cell_type": "markdown",
      "metadata": {
        "id": "AZFI3WGmwkge"
      },
      "source": [
        "## Sort Data"
      ]
    },
    {
      "cell_type": "code",
      "metadata": {
        "id": "rJOrRQQ46tcm"
      },
      "source": [
        ""
      ],
      "execution_count": 8,
      "outputs": []
    },
    {
      "cell_type": "code",
      "metadata": {
        "id": "TgnOWmuLwlkl",
        "outputId": "9e9084fa-0f9d-437f-9f58-812b626a9d69",
        "colab": {
          "base_uri": "https://localhost:8080/",
          "height": 669
        }
      },
      "source": [
        "df_summer_olympics_by_medals = pd.DataFrame(df_summer_olympics.groupby([ 'Year','Medal'])['Medal'].size())\n",
        "df_summer_olympics_by_medals.columns = ['Medal_Tally']\n",
        "df_summer_olympics_by_medals.reset_index(inplace=True)\n",
        "df_summer_olympics_by_medals = df_summer_olympics_by_medals.sort_values(by=[ 'Year','Medal','Medal_Tally'],ascending=[False,True,False])\n",
        "df_summer_olympics_by_medals.head(20)"
      ],
      "execution_count": 11,
      "outputs": [
        {
          "output_type": "execute_result",
          "data": {
            "text/html": [
              "<div>\n",
              "<style scoped>\n",
              "    .dataframe tbody tr th:only-of-type {\n",
              "        vertical-align: middle;\n",
              "    }\n",
              "\n",
              "    .dataframe tbody tr th {\n",
              "        vertical-align: top;\n",
              "    }\n",
              "\n",
              "    .dataframe thead th {\n",
              "        text-align: right;\n",
              "    }\n",
              "</style>\n",
              "<table border=\"1\" class=\"dataframe\">\n",
              "  <thead>\n",
              "    <tr style=\"text-align: right;\">\n",
              "      <th></th>\n",
              "      <th>Year</th>\n",
              "      <th>Medal</th>\n",
              "      <th>Medal_Tally</th>\n",
              "    </tr>\n",
              "  </thead>\n",
              "  <tbody>\n",
              "    <tr>\n",
              "      <th>78</th>\n",
              "      <td>2012</td>\n",
              "      <td>Bronze</td>\n",
              "      <td>680</td>\n",
              "    </tr>\n",
              "    <tr>\n",
              "      <th>79</th>\n",
              "      <td>2012</td>\n",
              "      <td>Gold</td>\n",
              "      <td>636</td>\n",
              "    </tr>\n",
              "    <tr>\n",
              "      <th>80</th>\n",
              "      <td>2012</td>\n",
              "      <td>Silver</td>\n",
              "      <td>633</td>\n",
              "    </tr>\n",
              "    <tr>\n",
              "      <th>75</th>\n",
              "      <td>2008</td>\n",
              "      <td>Bronze</td>\n",
              "      <td>710</td>\n",
              "    </tr>\n",
              "    <tr>\n",
              "      <th>76</th>\n",
              "      <td>2008</td>\n",
              "      <td>Gold</td>\n",
              "      <td>669</td>\n",
              "    </tr>\n",
              "    <tr>\n",
              "      <th>77</th>\n",
              "      <td>2008</td>\n",
              "      <td>Silver</td>\n",
              "      <td>663</td>\n",
              "    </tr>\n",
              "    <tr>\n",
              "      <th>72</th>\n",
              "      <td>2004</td>\n",
              "      <td>Bronze</td>\n",
              "      <td>679</td>\n",
              "    </tr>\n",
              "    <tr>\n",
              "      <th>73</th>\n",
              "      <td>2004</td>\n",
              "      <td>Gold</td>\n",
              "      <td>659</td>\n",
              "    </tr>\n",
              "    <tr>\n",
              "      <th>74</th>\n",
              "      <td>2004</td>\n",
              "      <td>Silver</td>\n",
              "      <td>660</td>\n",
              "    </tr>\n",
              "    <tr>\n",
              "      <th>69</th>\n",
              "      <td>2000</td>\n",
              "      <td>Bronze</td>\n",
              "      <td>685</td>\n",
              "    </tr>\n",
              "    <tr>\n",
              "      <th>70</th>\n",
              "      <td>2000</td>\n",
              "      <td>Gold</td>\n",
              "      <td>663</td>\n",
              "    </tr>\n",
              "    <tr>\n",
              "      <th>71</th>\n",
              "      <td>2000</td>\n",
              "      <td>Silver</td>\n",
              "      <td>667</td>\n",
              "    </tr>\n",
              "    <tr>\n",
              "      <th>66</th>\n",
              "      <td>1996</td>\n",
              "      <td>Bronze</td>\n",
              "      <td>634</td>\n",
              "    </tr>\n",
              "    <tr>\n",
              "      <th>67</th>\n",
              "      <td>1996</td>\n",
              "      <td>Gold</td>\n",
              "      <td>615</td>\n",
              "    </tr>\n",
              "    <tr>\n",
              "      <th>68</th>\n",
              "      <td>1996</td>\n",
              "      <td>Silver</td>\n",
              "      <td>610</td>\n",
              "    </tr>\n",
              "    <tr>\n",
              "      <th>63</th>\n",
              "      <td>1992</td>\n",
              "      <td>Bronze</td>\n",
              "      <td>596</td>\n",
              "    </tr>\n",
              "    <tr>\n",
              "      <th>64</th>\n",
              "      <td>1992</td>\n",
              "      <td>Gold</td>\n",
              "      <td>558</td>\n",
              "    </tr>\n",
              "    <tr>\n",
              "      <th>65</th>\n",
              "      <td>1992</td>\n",
              "      <td>Silver</td>\n",
              "      <td>551</td>\n",
              "    </tr>\n",
              "    <tr>\n",
              "      <th>60</th>\n",
              "      <td>1988</td>\n",
              "      <td>Bronze</td>\n",
              "      <td>535</td>\n",
              "    </tr>\n",
              "    <tr>\n",
              "      <th>61</th>\n",
              "      <td>1988</td>\n",
              "      <td>Gold</td>\n",
              "      <td>506</td>\n",
              "    </tr>\n",
              "  </tbody>\n",
              "</table>\n",
              "</div>"
            ],
            "text/plain": [
              "    Year   Medal  Medal_Tally\n",
              "78  2012  Bronze          680\n",
              "79  2012    Gold          636\n",
              "80  2012  Silver          633\n",
              "75  2008  Bronze          710\n",
              "76  2008    Gold          669\n",
              "77  2008  Silver          663\n",
              "72  2004  Bronze          679\n",
              "73  2004    Gold          659\n",
              "74  2004  Silver          660\n",
              "69  2000  Bronze          685\n",
              "70  2000    Gold          663\n",
              "71  2000  Silver          667\n",
              "66  1996  Bronze          634\n",
              "67  1996    Gold          615\n",
              "68  1996  Silver          610\n",
              "63  1992  Bronze          596\n",
              "64  1992    Gold          558\n",
              "65  1992  Silver          551\n",
              "60  1988  Bronze          535\n",
              "61  1988    Gold          506"
            ]
          },
          "metadata": {
            "tags": []
          },
          "execution_count": 11
        }
      ]
    },
    {
      "cell_type": "code",
      "metadata": {
        "id": "tPjY6INf7fgl",
        "outputId": "7fcd12af-30bf-4079-ae2f-9b57708fa2a5",
        "colab": {
          "base_uri": "https://localhost:8080/",
          "height": 316
        }
      },
      "source": [
        "df_summer_olympics_by_medals.boxplot(column=['Medal_Tally'], by=['Year']);\n",
        "plt.xticks(rotation=90);"
      ],
      "execution_count": 12,
      "outputs": [
        {
          "output_type": "display_data",
          "data": {
            "image/png": "[encoded data removed]",
            "text/plain": [
              "<Figure size 432x288 with 1 Axes>"
            ]
          },
          "metadata": {
            "tags": [],
            "needs_background": "light"
          }
        }
      ]
    },
    {
      "cell_type": "code",
      "metadata": {
        "id": "vWyEPlxZ80ok",
        "outputId": "16f3f74f-9a3a-4c17-91f3-2b0db21bdcc9",
        "colab": {
          "base_uri": "https://localhost:8080/",
          "height": 621
        }
      },
      "source": [
        "plt.figure(figsize=(20,10))\n",
        "sns.barplot(data=df_summer_olympics_by_medals, x='Year', y='Medal_Tally', hue='Medal', hue_order=['Gold','Silver','Bronze'], )\n",
        "plt.xticks(rotation=90);"
      ],
      "execution_count": 13,
      "outputs": [
        {
          "output_type": "display_data",
          "data": {
            "image/png": "[encoded data removed]",
            "text/plain": [
              "<Figure size 1440x720 with 1 Axes>"
            ]
          },
          "metadata": {
            "tags": [],
            "needs_background": "light"
          }
        }
      ]
    },
    {
      "cell_type": "code",
      "metadata": {
        "id": "nYQ_4da32hOD"
      },
      "source": [
        ""
      ],
      "execution_count": null,
      "outputs": []
    },
    {
      "cell_type": "markdown",
      "metadata": {
        "id": "RRhlah3p2h0k"
      },
      "source": [
        "## Visualisation: Plotting Series"
      ]
    },
    {
      "cell_type": "code",
      "metadata": {
        "id": "Od9RV02A2sFy",
        "outputId": "db556d52-9552-4891-91fc-c448dbfedf14",
        "colab": {
          "base_uri": "https://localhost:8080/",
          "height": 235
        }
      },
      "source": [
        "df_summer_olympics_by_medals.pivot_table(index='Year', columns='Medal', values='Medal_Tally').head()"
      ],
      "execution_count": 17,
      "outputs": [
        {
          "output_type": "execute_result",
          "data": {
            "text/html": [
              "<div>\n",
              "<style scoped>\n",
              "    .dataframe tbody tr th:only-of-type {\n",
              "        vertical-align: middle;\n",
              "    }\n",
              "\n",
              "    .dataframe tbody tr th {\n",
              "        vertical-align: top;\n",
              "    }\n",
              "\n",
              "    .dataframe thead th {\n",
              "        text-align: right;\n",
              "    }\n",
              "</style>\n",
              "<table border=\"1\" class=\"dataframe\">\n",
              "  <thead>\n",
              "    <tr style=\"text-align: right;\">\n",
              "      <th>Medal</th>\n",
              "      <th>Bronze</th>\n",
              "      <th>Gold</th>\n",
              "      <th>Silver</th>\n",
              "    </tr>\n",
              "    <tr>\n",
              "      <th>Year</th>\n",
              "      <th></th>\n",
              "      <th></th>\n",
              "      <th></th>\n",
              "    </tr>\n",
              "  </thead>\n",
              "  <tbody>\n",
              "    <tr>\n",
              "      <th>1896</th>\n",
              "      <td>40</td>\n",
              "      <td>64</td>\n",
              "      <td>47</td>\n",
              "    </tr>\n",
              "    <tr>\n",
              "      <th>1900</th>\n",
              "      <td>142</td>\n",
              "      <td>178</td>\n",
              "      <td>192</td>\n",
              "    </tr>\n",
              "    <tr>\n",
              "      <th>1904</th>\n",
              "      <td>123</td>\n",
              "      <td>188</td>\n",
              "      <td>159</td>\n",
              "    </tr>\n",
              "    <tr>\n",
              "      <th>1908</th>\n",
              "      <td>211</td>\n",
              "      <td>311</td>\n",
              "      <td>282</td>\n",
              "    </tr>\n",
              "    <tr>\n",
              "      <th>1912</th>\n",
              "      <td>284</td>\n",
              "      <td>301</td>\n",
              "      <td>300</td>\n",
              "    </tr>\n",
              "  </tbody>\n",
              "</table>\n",
              "</div>"
            ],
            "text/plain": [
              "Medal  Bronze  Gold  Silver\n",
              "Year                       \n",
              "1896       40    64      47\n",
              "1900      142   178     192\n",
              "1904      123   188     159\n",
              "1908      211   311     282\n",
              "1912      284   301     300"
            ]
          },
          "metadata": {
            "tags": []
          },
          "execution_count": 17
        }
      ]
    },
    {
      "cell_type": "code",
      "metadata": {
        "id": "w9Vm9ADf1yrB",
        "outputId": "edd6c893-7856-431a-c32b-a544ecc8c549",
        "colab": {
          "base_uri": "https://localhost:8080/",
          "height": 296
        }
      },
      "source": [
        "df_summer_olympics_by_medals.pivot_table(index='Year', columns='Medal', values='Medal_Tally').plot(kind='line')"
      ],
      "execution_count": 15,
      "outputs": [
        {
          "output_type": "execute_result",
          "data": {
            "text/plain": [
              "<matplotlib.axes._subplots.AxesSubplot at 0x7f10151c1080>"
            ]
          },
          "metadata": {
            "tags": []
          },
          "execution_count": 15
        },
        {
          "output_type": "display_data",
          "data": {
            "image/png": "[encoded data removed]",
            "text/plain": [
              "<Figure size 432x288 with 1 Axes>"
            ]
          },
          "metadata": {
            "tags": [],
            "needs_background": "light"
          }
        }
      ]
    },
    {
      "cell_type": "markdown",
      "metadata": {
        "id": "b2VfH18pLEcv"
      },
      "source": [
        "## Missing Values"
      ]
    },
    {
      "cell_type": "code",
      "metadata": {
        "id": "dG_x-bSALHov",
        "outputId": "bc9cb5e3-e8f5-489f-ed3b-150320e26e71",
        "colab": {
          "base_uri": "https://localhost:8080/",
          "height": 187
        }
      },
      "source": [
        "df_summer_olympics.isna().sum()"
      ],
      "execution_count": null,
      "outputs": [
        {
          "output_type": "execute_result",
          "data": {
            "text/plain": [
              "Year          0\n",
              "City          0\n",
              "Sport         0\n",
              "Discipline    0\n",
              "Athlete       0\n",
              "Country       4\n",
              "Gender        0\n",
              "Event         0\n",
              "Medal         0\n",
              "dtype: int64"
            ]
          },
          "metadata": {
            "tags": []
          },
          "execution_count": 43
        }
      ]
    },
    {
      "cell_type": "markdown",
      "metadata": {
        "id": "lgi43Q3lLadl"
      },
      "source": [
        "**Column Country has 4 missing values**"
      ]
    },
    {
      "cell_type": "code",
      "metadata": {
        "id": "S3yKHBweLIOJ"
      },
      "source": [
        ""
      ],
      "execution_count": null,
      "outputs": []
    },
    {
      "cell_type": "code",
      "metadata": {
        "id": "BWvQEMS3LHW8"
      },
      "source": [
        ""
      ],
      "execution_count": null,
      "outputs": []
    },
    {
      "cell_type": "markdown",
      "metadata": {
        "id": "k5Uh_Si783eY"
      },
      "source": [
        "## Find Duplicates and remove them"
      ]
    },
    {
      "cell_type": "code",
      "metadata": {
        "id": "huuVpNnp8nRH",
        "outputId": "c4449b0a-3808-4b60-eace-3f32489940ca",
        "colab": {
          "base_uri": "https://localhost:8080/",
          "height": 34
        }
      },
      "source": [
        "df_summer_olympics['IS_DUP'] =  df_summer_olympics.duplicated(keep=False)\n",
        "df_summer_olympics.IS_DUP.unique()"
      ],
      "execution_count": 55,
      "outputs": [
        {
          "output_type": "execute_result",
          "data": {
            "text/plain": [
              "array([False,  True])"
            ]
          },
          "metadata": {
            "tags": []
          },
          "execution_count": 55
        }
      ]
    },
    {
      "cell_type": "code",
      "metadata": {
        "id": "SdyHe3cp9AZb",
        "outputId": "68e4ccf8-a1e4-4b6d-d4f1-fabef8ac591f",
        "colab": {
          "base_uri": "https://localhost:8080/",
          "height": 173
        }
      },
      "source": [
        "df_summer_olympics_dup = df_summer_olympics[df_summer_olympics.IS_DUP == True]\n",
        "df_summer_olympics_dup"
      ],
      "execution_count": 57,
      "outputs": [
        {
          "output_type": "execute_result",
          "data": {
            "text/html": [
              "<div>\n",
              "<style scoped>\n",
              "    .dataframe tbody tr th:only-of-type {\n",
              "        vertical-align: middle;\n",
              "    }\n",
              "\n",
              "    .dataframe tbody tr th {\n",
              "        vertical-align: top;\n",
              "    }\n",
              "\n",
              "    .dataframe thead th {\n",
              "        text-align: right;\n",
              "    }\n",
              "</style>\n",
              "<table border=\"1\" class=\"dataframe\">\n",
              "  <thead>\n",
              "    <tr style=\"text-align: right;\">\n",
              "      <th></th>\n",
              "      <th>Year</th>\n",
              "      <th>City</th>\n",
              "      <th>Sport</th>\n",
              "      <th>Discipline</th>\n",
              "      <th>Athlete</th>\n",
              "      <th>Country</th>\n",
              "      <th>Gender</th>\n",
              "      <th>Event</th>\n",
              "      <th>Medal</th>\n",
              "      <th>IS_DUP</th>\n",
              "    </tr>\n",
              "  </thead>\n",
              "  <tbody>\n",
              "    <tr>\n",
              "      <th>16098</th>\n",
              "      <td>1980</td>\n",
              "      <td>Moscow</td>\n",
              "      <td>Hockey</td>\n",
              "      <td>Hockey</td>\n",
              "      <td>SINGH, Singh</td>\n",
              "      <td>IND</td>\n",
              "      <td>Men</td>\n",
              "      <td>Hockey</td>\n",
              "      <td>Gold</td>\n",
              "      <td>True</td>\n",
              "    </tr>\n",
              "    <tr>\n",
              "      <th>16099</th>\n",
              "      <td>1980</td>\n",
              "      <td>Moscow</td>\n",
              "      <td>Hockey</td>\n",
              "      <td>Hockey</td>\n",
              "      <td>SINGH, Singh</td>\n",
              "      <td>IND</td>\n",
              "      <td>Men</td>\n",
              "      <td>Hockey</td>\n",
              "      <td>Gold</td>\n",
              "      <td>True</td>\n",
              "    </tr>\n",
              "    <tr>\n",
              "      <th>29779</th>\n",
              "      <td>2012</td>\n",
              "      <td>London</td>\n",
              "      <td>Badminton</td>\n",
              "      <td>Badminton</td>\n",
              "      <td>ZHAO, Yunlei</td>\n",
              "      <td>CHN</td>\n",
              "      <td>Women</td>\n",
              "      <td>Doubles</td>\n",
              "      <td>Gold</td>\n",
              "      <td>True</td>\n",
              "    </tr>\n",
              "    <tr>\n",
              "      <th>29785</th>\n",
              "      <td>2012</td>\n",
              "      <td>London</td>\n",
              "      <td>Badminton</td>\n",
              "      <td>Badminton</td>\n",
              "      <td>ZHAO, Yunlei</td>\n",
              "      <td>CHN</td>\n",
              "      <td>Women</td>\n",
              "      <td>Doubles</td>\n",
              "      <td>Gold</td>\n",
              "      <td>True</td>\n",
              "    </tr>\n",
              "  </tbody>\n",
              "</table>\n",
              "</div>"
            ],
            "text/plain": [
              "       Year    City      Sport Discipline       Athlete Country Gender  \\\n",
              "16098  1980  Moscow     Hockey     Hockey  SINGH, Singh     IND    Men   \n",
              "16099  1980  Moscow     Hockey     Hockey  SINGH, Singh     IND    Men   \n",
              "29779  2012  London  Badminton  Badminton  ZHAO, Yunlei     CHN  Women   \n",
              "29785  2012  London  Badminton  Badminton  ZHAO, Yunlei     CHN  Women   \n",
              "\n",
              "         Event Medal  IS_DUP  \n",
              "16098   Hockey  Gold    True  \n",
              "16099   Hockey  Gold    True  \n",
              "29779  Doubles  Gold    True  \n",
              "29785  Doubles  Gold    True  "
            ]
          },
          "metadata": {
            "tags": []
          },
          "execution_count": 57
        }
      ]
    },
    {
      "cell_type": "code",
      "metadata": {
        "id": "W8s65VrC9N-I",
        "outputId": "45cd60a1-a38b-4c4a-8bfb-3459d2a4f8a9",
        "colab": {
          "base_uri": "https://localhost:8080/",
          "height": 102
        }
      },
      "source": [
        "df_summer_olympics_dup.duplicated(keep='first')"
      ],
      "execution_count": 58,
      "outputs": [
        {
          "output_type": "execute_result",
          "data": {
            "text/plain": [
              "16098    False\n",
              "16099     True\n",
              "29779    False\n",
              "29785     True\n",
              "dtype: bool"
            ]
          },
          "metadata": {
            "tags": []
          },
          "execution_count": 58
        }
      ]
    },
    {
      "cell_type": "code",
      "metadata": {
        "id": "1hKqdig_v1L_"
      },
      "source": [
        ""
      ],
      "execution_count": null,
      "outputs": []
    },
    {
      "cell_type": "code",
      "metadata": {
        "id": "o4Emyk0CAXNP",
        "outputId": "f85de1b6-794d-4cd9-9e82-b7131e1a7014",
        "colab": {
          "base_uri": "https://localhost:8080/",
          "height": 289
        }
      },
      "source": [
        "#df_summer_olympics.reset_index(inplace=True)\n",
        "df_summer_olympics.info()"
      ],
      "execution_count": null,
      "outputs": [
        {
          "output_type": "stream",
          "text": [
            "<class 'pandas.core.frame.DataFrame'>\n",
            "RangeIndex: 31165 entries, 0 to 31164\n",
            "Data columns (total 9 columns):\n",
            " #   Column      Non-Null Count  Dtype \n",
            "---  ------      --------------  ----- \n",
            " 0   Year        31165 non-null  int64 \n",
            " 1   City        31165 non-null  object\n",
            " 2   Sport       31165 non-null  object\n",
            " 3   Discipline  31165 non-null  object\n",
            " 4   Athlete     31165 non-null  object\n",
            " 5   Country     31161 non-null  object\n",
            " 6   Gender      31165 non-null  object\n",
            " 7   Event       31165 non-null  object\n",
            " 8   Medal       31165 non-null  object\n",
            "dtypes: int64(1), object(8)\n",
            "memory usage: 2.1+ MB\n"
          ],
          "name": "stdout"
        }
      ]
    },
    {
      "cell_type": "code",
      "metadata": {
        "id": "BHSv1TJp_1aD"
      },
      "source": [
        "from datetime import datetime\n",
        "from pytz import all_timezones\n",
        "\n",
        "df_summer_olympics_year_discipline['Year_ts'] = pd.to_datetime(df_summer_olympics_year_discipline['Year'],format='%Y')"
      ],
      "execution_count": null,
      "outputs": []
    },
    {
      "cell_type": "code",
      "metadata": {
        "id": "x5DmlwIFSaI1",
        "outputId": "a210a042-423a-4307-b705-01aaa3af5e0d",
        "colab": {
          "base_uri": "https://localhost:8080/",
          "height": 173
        }
      },
      "source": [
        "df = pd.DataFrame([['1990', 'a', 5, 4, 7, 2], ['1991', 'c', 10, 1, 2, 0], ['1992', 'd', 2, 1, 4, 12], ['1993', 'a', 5, 8, 11, 6]], columns=('Date', 'best', 'a', 'b', 'c', 'd'))\n",
        "df['value'] = df.lookup(df.index, df['best'])\n",
        "df"
      ],
      "execution_count": 121,
      "outputs": [
        {
          "output_type": "execute_result",
          "data": {
            "text/html": [
              "<div>\n",
              "<style scoped>\n",
              "    .dataframe tbody tr th:only-of-type {\n",
              "        vertical-align: middle;\n",
              "    }\n",
              "\n",
              "    .dataframe tbody tr th {\n",
              "        vertical-align: top;\n",
              "    }\n",
              "\n",
              "    .dataframe thead th {\n",
              "        text-align: right;\n",
              "    }\n",
              "</style>\n",
              "<table border=\"1\" class=\"dataframe\">\n",
              "  <thead>\n",
              "    <tr style=\"text-align: right;\">\n",
              "      <th></th>\n",
              "      <th>Date</th>\n",
              "      <th>best</th>\n",
              "      <th>a</th>\n",
              "      <th>b</th>\n",
              "      <th>c</th>\n",
              "      <th>d</th>\n",
              "      <th>value</th>\n",
              "    </tr>\n",
              "  </thead>\n",
              "  <tbody>\n",
              "    <tr>\n",
              "      <th>0</th>\n",
              "      <td>1990</td>\n",
              "      <td>a</td>\n",
              "      <td>5</td>\n",
              "      <td>4</td>\n",
              "      <td>7</td>\n",
              "      <td>2</td>\n",
              "      <td>5</td>\n",
              "    </tr>\n",
              "    <tr>\n",
              "      <th>1</th>\n",
              "      <td>1991</td>\n",
              "      <td>c</td>\n",
              "      <td>10</td>\n",
              "      <td>1</td>\n",
              "      <td>2</td>\n",
              "      <td>0</td>\n",
              "      <td>2</td>\n",
              "    </tr>\n",
              "    <tr>\n",
              "      <th>2</th>\n",
              "      <td>1992</td>\n",
              "      <td>d</td>\n",
              "      <td>2</td>\n",
              "      <td>1</td>\n",
              "      <td>4</td>\n",
              "      <td>12</td>\n",
              "      <td>12</td>\n",
              "    </tr>\n",
              "    <tr>\n",
              "      <th>3</th>\n",
              "      <td>1993</td>\n",
              "      <td>a</td>\n",
              "      <td>5</td>\n",
              "      <td>8</td>\n",
              "      <td>11</td>\n",
              "      <td>6</td>\n",
              "      <td>5</td>\n",
              "    </tr>\n",
              "  </tbody>\n",
              "</table>\n",
              "</div>"
            ],
            "text/plain": [
              "   Date best   a  b   c   d  value\n",
              "0  1990    a   5  4   7   2      5\n",
              "1  1991    c  10  1   2   0      2\n",
              "2  1992    d   2  1   4  12     12\n",
              "3  1993    a   5  8  11   6      5"
            ]
          },
          "metadata": {
            "tags": []
          },
          "execution_count": 121
        }
      ]
    },
    {
      "cell_type": "markdown",
      "metadata": {
        "id": "7R0gF1PdEehe"
      },
      "source": [
        "## Timeseries Visualisation"
      ]
    },
    {
      "cell_type": "code",
      "metadata": {
        "id": "yRwelW88ElL1",
        "outputId": "e58d2b01-c6d4-4415-814d-f6f349a4b8c5",
        "colab": {
          "base_uri": "https://localhost:8080/",
          "height": 238
        }
      },
      "source": [
        "!pip install calplot\n"
      ],
      "execution_count": 59,
      "outputs": [
        {
          "output_type": "stream",
          "text": [
            "Collecting calplot\n",
            "  Downloading https://files.pythonhosted.org/packages/62/00/f6a4028594570c4ebaffa36bfe05432dd210b6f9ed9099302ca088773285/calplot-0.1.4-py3-none-any.whl\n",
            "Requirement already satisfied: numpy in /usr/local/lib/python3.6/dist-packages (from calplot) (1.18.5)\n",
            "Requirement already satisfied: matplotlib in /usr/local/lib/python3.6/dist-packages (from calplot) (3.2.2)\n",
            "Requirement already satisfied: pandas>=0.18 in /usr/local/lib/python3.6/dist-packages (from calplot) (1.1.2)\n",
            "Requirement already satisfied: kiwisolver>=1.0.1 in /usr/local/lib/python3.6/dist-packages (from matplotlib->calplot) (1.2.0)\n",
            "Requirement already satisfied: cycler>=0.10 in /usr/local/lib/python3.6/dist-packages (from matplotlib->calplot) (0.10.0)\n",
            "Requirement already satisfied: pyparsing!=2.0.4,!=2.1.2,!=2.1.6,>=2.0.1 in /usr/local/lib/python3.6/dist-packages (from matplotlib->calplot) (2.4.7)\n",
            "Requirement already satisfied: python-dateutil>=2.1 in /usr/local/lib/python3.6/dist-packages (from matplotlib->calplot) (2.8.1)\n",
            "Requirement already satisfied: pytz>=2017.2 in /usr/local/lib/python3.6/dist-packages (from pandas>=0.18->calplot) (2018.9)\n",
            "Requirement already satisfied: six in /usr/local/lib/python3.6/dist-packages (from cycler>=0.10->matplotlib->calplot) (1.15.0)\n",
            "Installing collected packages: calplot\n",
            "Successfully installed calplot-0.1.4\n"
          ],
          "name": "stdout"
        }
      ]
    },
    {
      "cell_type": "code",
      "metadata": {
        "id": "-wCDgN4Z-J8r"
      },
      "source": [
        "import calplot"
      ],
      "execution_count": 62,
      "outputs": []
    },
    {
      "cell_type": "markdown",
      "metadata": {
        "id": "HaDZ7AVVvk2d"
      },
      "source": [
        "### Visualisation - Monthly Calender"
      ]
    },
    {
      "cell_type": "code",
      "metadata": {
        "id": "EAfXrUV8JX-S",
        "outputId": "54ce8c3a-639d-4617-d77c-ad6d6a7756ed",
        "colab": {
          "base_uri": "https://localhost:8080/",
          "height": 204
        }
      },
      "source": [
        "df_car_sales = pd.read_csv('https://raw.githubusercontent.com/jbrownlee/Datasets/master/monthly-car-sales.csv')\n",
        "df_car_sales.head()"
      ],
      "execution_count": 163,
      "outputs": [
        {
          "output_type": "execute_result",
          "data": {
            "text/html": [
              "<div>\n",
              "<style scoped>\n",
              "    .dataframe tbody tr th:only-of-type {\n",
              "        vertical-align: middle;\n",
              "    }\n",
              "\n",
              "    .dataframe tbody tr th {\n",
              "        vertical-align: top;\n",
              "    }\n",
              "\n",
              "    .dataframe thead th {\n",
              "        text-align: right;\n",
              "    }\n",
              "</style>\n",
              "<table border=\"1\" class=\"dataframe\">\n",
              "  <thead>\n",
              "    <tr style=\"text-align: right;\">\n",
              "      <th></th>\n",
              "      <th>Month</th>\n",
              "      <th>Sales</th>\n",
              "    </tr>\n",
              "  </thead>\n",
              "  <tbody>\n",
              "    <tr>\n",
              "      <th>0</th>\n",
              "      <td>1960-01</td>\n",
              "      <td>6550</td>\n",
              "    </tr>\n",
              "    <tr>\n",
              "      <th>1</th>\n",
              "      <td>1960-02</td>\n",
              "      <td>8728</td>\n",
              "    </tr>\n",
              "    <tr>\n",
              "      <th>2</th>\n",
              "      <td>1960-03</td>\n",
              "      <td>12026</td>\n",
              "    </tr>\n",
              "    <tr>\n",
              "      <th>3</th>\n",
              "      <td>1960-04</td>\n",
              "      <td>14395</td>\n",
              "    </tr>\n",
              "    <tr>\n",
              "      <th>4</th>\n",
              "      <td>1960-05</td>\n",
              "      <td>14587</td>\n",
              "    </tr>\n",
              "  </tbody>\n",
              "</table>\n",
              "</div>"
            ],
            "text/plain": [
              "     Month  Sales\n",
              "0  1960-01   6550\n",
              "1  1960-02   8728\n",
              "2  1960-03  12026\n",
              "3  1960-04  14395\n",
              "4  1960-05  14587"
            ]
          },
          "metadata": {
            "tags": []
          },
          "execution_count": 163
        }
      ]
    },
    {
      "cell_type": "code",
      "metadata": {
        "id": "yDOZgEuQL1Qa",
        "outputId": "48c54b73-79bd-43f6-d082-1da81e615cee",
        "colab": {
          "base_uri": "https://localhost:8080/",
          "height": 204
        }
      },
      "source": [
        "from datetime import datetime\n",
        "from pytz import all_timezones\n",
        "\n",
        "df_car_sales['Month_ts'] = pd.to_datetime(df_car_sales['Month'])#,format='%Y-%M')\n",
        "df_car_sales.head()"
      ],
      "execution_count": 165,
      "outputs": [
        {
          "output_type": "execute_result",
          "data": {
            "text/html": [
              "<div>\n",
              "<style scoped>\n",
              "    .dataframe tbody tr th:only-of-type {\n",
              "        vertical-align: middle;\n",
              "    }\n",
              "\n",
              "    .dataframe tbody tr th {\n",
              "        vertical-align: top;\n",
              "    }\n",
              "\n",
              "    .dataframe thead th {\n",
              "        text-align: right;\n",
              "    }\n",
              "</style>\n",
              "<table border=\"1\" class=\"dataframe\">\n",
              "  <thead>\n",
              "    <tr style=\"text-align: right;\">\n",
              "      <th></th>\n",
              "      <th>Month</th>\n",
              "      <th>Sales</th>\n",
              "      <th>Month_ts</th>\n",
              "    </tr>\n",
              "  </thead>\n",
              "  <tbody>\n",
              "    <tr>\n",
              "      <th>0</th>\n",
              "      <td>1960-01</td>\n",
              "      <td>6550</td>\n",
              "      <td>1960-01-01</td>\n",
              "    </tr>\n",
              "    <tr>\n",
              "      <th>1</th>\n",
              "      <td>1960-02</td>\n",
              "      <td>8728</td>\n",
              "      <td>1960-02-01</td>\n",
              "    </tr>\n",
              "    <tr>\n",
              "      <th>2</th>\n",
              "      <td>1960-03</td>\n",
              "      <td>12026</td>\n",
              "      <td>1960-03-01</td>\n",
              "    </tr>\n",
              "    <tr>\n",
              "      <th>3</th>\n",
              "      <td>1960-04</td>\n",
              "      <td>14395</td>\n",
              "      <td>1960-04-01</td>\n",
              "    </tr>\n",
              "    <tr>\n",
              "      <th>4</th>\n",
              "      <td>1960-05</td>\n",
              "      <td>14587</td>\n",
              "      <td>1960-05-01</td>\n",
              "    </tr>\n",
              "  </tbody>\n",
              "</table>\n",
              "</div>"
            ],
            "text/plain": [
              "     Month  Sales   Month_ts\n",
              "0  1960-01   6550 1960-01-01\n",
              "1  1960-02   8728 1960-02-01\n",
              "2  1960-03  12026 1960-03-01\n",
              "3  1960-04  14395 1960-04-01\n",
              "4  1960-05  14587 1960-05-01"
            ]
          },
          "metadata": {
            "tags": []
          },
          "execution_count": 165
        }
      ]
    },
    {
      "cell_type": "code",
      "metadata": {
        "id": "jeQUqznpB-Z9"
      },
      "source": [
        "df_car_sales.set_index('Month_ts',inplace=True)"
      ],
      "execution_count": 166,
      "outputs": []
    },
    {
      "cell_type": "code",
      "metadata": {
        "id": "Z3Bm0F06-Mu4",
        "outputId": "1375283a-8b86-4ce3-fe35-86e6467baa3c",
        "colab": {
          "base_uri": "https://localhost:8080/",
          "height": 1000
        }
      },
      "source": [
        "calplot.calplot(df_car_sales.Sales, cmap='YlGn');\n"
      ],
      "execution_count": 167,
      "outputs": [
        {
          "output_type": "display_data",
          "data": {
            "image/png": "[encoded data removed]",
            "text/plain": [
              "<Figure size 900x1101.6 with 10 Axes>"
            ]
          },
          "metadata": {
            "tags": [],
            "needs_background": "light"
          }
        }
      ]
    },
    {
      "cell_type": "markdown",
      "metadata": {
        "id": "Bq9RfTQ4EegA"
      },
      "source": [
        "### Visualisation - Daily "
      ]
    },
    {
      "cell_type": "code",
      "metadata": {
        "id": "1prw2pFmEl6d",
        "outputId": "539126c8-be95-48a9-8e79-f4d24503d267",
        "colab": {
          "base_uri": "https://localhost:8080/",
          "height": 343
        }
      },
      "source": [
        "df_weather = pd.read_csv('https://raw.githubusercontent.com/insaid2018/Term-2/master/Projects/Summary%20of%20Weather.csv')\n",
        "df_weather.head()"
      ],
      "execution_count": 172,
      "outputs": [
        {
          "output_type": "stream",
          "text": [
            "/usr/local/lib/python3.6/dist-packages/IPython/core/interactiveshell.py:2718: DtypeWarning: Columns (7,8,18,25) have mixed types.Specify dtype option on import or set low_memory=False.\n",
            "  interactivity=interactivity, compiler=compiler, result=result)\n"
          ],
          "name": "stderr"
        },
        {
          "output_type": "execute_result",
          "data": {
            "text/html": [
              "<div>\n",
              "<style scoped>\n",
              "    .dataframe tbody tr th:only-of-type {\n",
              "        vertical-align: middle;\n",
              "    }\n",
              "\n",
              "    .dataframe tbody tr th {\n",
              "        vertical-align: top;\n",
              "    }\n",
              "\n",
              "    .dataframe thead th {\n",
              "        text-align: right;\n",
              "    }\n",
              "</style>\n",
              "<table border=\"1\" class=\"dataframe\">\n",
              "  <thead>\n",
              "    <tr style=\"text-align: right;\">\n",
              "      <th></th>\n",
              "      <th>STA</th>\n",
              "      <th>Date</th>\n",
              "      <th>Precip</th>\n",
              "      <th>WindGustSpd</th>\n",
              "      <th>MaxTemp</th>\n",
              "      <th>MinTemp</th>\n",
              "      <th>MeanTemp</th>\n",
              "      <th>Snowfall</th>\n",
              "      <th>PoorWeather</th>\n",
              "      <th>YR</th>\n",
              "      <th>MO</th>\n",
              "      <th>DA</th>\n",
              "      <th>PRCP</th>\n",
              "      <th>DR</th>\n",
              "      <th>SPD</th>\n",
              "      <th>MAX</th>\n",
              "      <th>MIN</th>\n",
              "      <th>MEA</th>\n",
              "      <th>SNF</th>\n",
              "      <th>SND</th>\n",
              "      <th>FT</th>\n",
              "      <th>FB</th>\n",
              "      <th>FTI</th>\n",
              "      <th>ITH</th>\n",
              "      <th>PGT</th>\n",
              "      <th>TSHDSBRSGF</th>\n",
              "      <th>SD3</th>\n",
              "      <th>RHX</th>\n",
              "      <th>RHN</th>\n",
              "      <th>RVG</th>\n",
              "      <th>WTE</th>\n",
              "    </tr>\n",
              "  </thead>\n",
              "  <tbody>\n",
              "    <tr>\n",
              "      <th>0</th>\n",
              "      <td>10001</td>\n",
              "      <td>1942-7-1</td>\n",
              "      <td>1.016</td>\n",
              "      <td>NaN</td>\n",
              "      <td>25.555556</td>\n",
              "      <td>22.222222</td>\n",
              "      <td>23.888889</td>\n",
              "      <td>0</td>\n",
              "      <td>NaN</td>\n",
              "      <td>42</td>\n",
              "      <td>7</td>\n",
              "      <td>1</td>\n",
              "      <td>0.04</td>\n",
              "      <td>NaN</td>\n",
              "      <td>NaN</td>\n",
              "      <td>78.0</td>\n",
              "      <td>72.0</td>\n",
              "      <td>75.0</td>\n",
              "      <td>0</td>\n",
              "      <td>NaN</td>\n",
              "      <td>NaN</td>\n",
              "      <td>NaN</td>\n",
              "      <td>NaN</td>\n",
              "      <td>NaN</td>\n",
              "      <td>NaN</td>\n",
              "      <td>NaN</td>\n",
              "      <td>NaN</td>\n",
              "      <td>NaN</td>\n",
              "      <td>NaN</td>\n",
              "      <td>NaN</td>\n",
              "      <td>NaN</td>\n",
              "    </tr>\n",
              "    <tr>\n",
              "      <th>1</th>\n",
              "      <td>10001</td>\n",
              "      <td>1942-7-2</td>\n",
              "      <td>0</td>\n",
              "      <td>NaN</td>\n",
              "      <td>28.888889</td>\n",
              "      <td>21.666667</td>\n",
              "      <td>25.555556</td>\n",
              "      <td>0</td>\n",
              "      <td>NaN</td>\n",
              "      <td>42</td>\n",
              "      <td>7</td>\n",
              "      <td>2</td>\n",
              "      <td>0</td>\n",
              "      <td>NaN</td>\n",
              "      <td>NaN</td>\n",
              "      <td>84.0</td>\n",
              "      <td>71.0</td>\n",
              "      <td>78.0</td>\n",
              "      <td>0</td>\n",
              "      <td>NaN</td>\n",
              "      <td>NaN</td>\n",
              "      <td>NaN</td>\n",
              "      <td>NaN</td>\n",
              "      <td>NaN</td>\n",
              "      <td>NaN</td>\n",
              "      <td>NaN</td>\n",
              "      <td>NaN</td>\n",
              "      <td>NaN</td>\n",
              "      <td>NaN</td>\n",
              "      <td>NaN</td>\n",
              "      <td>NaN</td>\n",
              "    </tr>\n",
              "    <tr>\n",
              "      <th>2</th>\n",
              "      <td>10001</td>\n",
              "      <td>1942-7-3</td>\n",
              "      <td>2.54</td>\n",
              "      <td>NaN</td>\n",
              "      <td>26.111111</td>\n",
              "      <td>22.222222</td>\n",
              "      <td>24.444444</td>\n",
              "      <td>0</td>\n",
              "      <td>NaN</td>\n",
              "      <td>42</td>\n",
              "      <td>7</td>\n",
              "      <td>3</td>\n",
              "      <td>0.1</td>\n",
              "      <td>NaN</td>\n",
              "      <td>NaN</td>\n",
              "      <td>79.0</td>\n",
              "      <td>72.0</td>\n",
              "      <td>76.0</td>\n",
              "      <td>0</td>\n",
              "      <td>NaN</td>\n",
              "      <td>NaN</td>\n",
              "      <td>NaN</td>\n",
              "      <td>NaN</td>\n",
              "      <td>NaN</td>\n",
              "      <td>NaN</td>\n",
              "      <td>NaN</td>\n",
              "      <td>NaN</td>\n",
              "      <td>NaN</td>\n",
              "      <td>NaN</td>\n",
              "      <td>NaN</td>\n",
              "      <td>NaN</td>\n",
              "    </tr>\n",
              "    <tr>\n",
              "      <th>3</th>\n",
              "      <td>10001</td>\n",
              "      <td>1942-7-4</td>\n",
              "      <td>2.54</td>\n",
              "      <td>NaN</td>\n",
              "      <td>26.666667</td>\n",
              "      <td>22.222222</td>\n",
              "      <td>24.444444</td>\n",
              "      <td>0</td>\n",
              "      <td>NaN</td>\n",
              "      <td>42</td>\n",
              "      <td>7</td>\n",
              "      <td>4</td>\n",
              "      <td>0.1</td>\n",
              "      <td>NaN</td>\n",
              "      <td>NaN</td>\n",
              "      <td>80.0</td>\n",
              "      <td>72.0</td>\n",
              "      <td>76.0</td>\n",
              "      <td>0</td>\n",
              "      <td>NaN</td>\n",
              "      <td>NaN</td>\n",
              "      <td>NaN</td>\n",
              "      <td>NaN</td>\n",
              "      <td>NaN</td>\n",
              "      <td>NaN</td>\n",
              "      <td>NaN</td>\n",
              "      <td>NaN</td>\n",
              "      <td>NaN</td>\n",
              "      <td>NaN</td>\n",
              "      <td>NaN</td>\n",
              "      <td>NaN</td>\n",
              "    </tr>\n",
              "    <tr>\n",
              "      <th>4</th>\n",
              "      <td>10001</td>\n",
              "      <td>1942-7-5</td>\n",
              "      <td>0</td>\n",
              "      <td>NaN</td>\n",
              "      <td>26.666667</td>\n",
              "      <td>21.666667</td>\n",
              "      <td>24.444444</td>\n",
              "      <td>0</td>\n",
              "      <td>NaN</td>\n",
              "      <td>42</td>\n",
              "      <td>7</td>\n",
              "      <td>5</td>\n",
              "      <td>0</td>\n",
              "      <td>NaN</td>\n",
              "      <td>NaN</td>\n",
              "      <td>80.0</td>\n",
              "      <td>71.0</td>\n",
              "      <td>76.0</td>\n",
              "      <td>0</td>\n",
              "      <td>NaN</td>\n",
              "      <td>NaN</td>\n",
              "      <td>NaN</td>\n",
              "      <td>NaN</td>\n",
              "      <td>NaN</td>\n",
              "      <td>NaN</td>\n",
              "      <td>NaN</td>\n",
              "      <td>NaN</td>\n",
              "      <td>NaN</td>\n",
              "      <td>NaN</td>\n",
              "      <td>NaN</td>\n",
              "      <td>NaN</td>\n",
              "    </tr>\n",
              "  </tbody>\n",
              "</table>\n",
              "</div>"
            ],
            "text/plain": [
              "     STA      Date Precip  WindGustSpd    MaxTemp    MinTemp   MeanTemp  \\\n",
              "0  10001  1942-7-1  1.016          NaN  25.555556  22.222222  23.888889   \n",
              "1  10001  1942-7-2      0          NaN  28.888889  21.666667  25.555556   \n",
              "2  10001  1942-7-3   2.54          NaN  26.111111  22.222222  24.444444   \n",
              "3  10001  1942-7-4   2.54          NaN  26.666667  22.222222  24.444444   \n",
              "4  10001  1942-7-5      0          NaN  26.666667  21.666667  24.444444   \n",
              "\n",
              "  Snowfall PoorWeather  YR  MO  DA  PRCP  DR  SPD   MAX   MIN   MEA SNF  SND  \\\n",
              "0        0         NaN  42   7   1  0.04 NaN  NaN  78.0  72.0  75.0   0  NaN   \n",
              "1        0         NaN  42   7   2     0 NaN  NaN  84.0  71.0  78.0   0  NaN   \n",
              "2        0         NaN  42   7   3   0.1 NaN  NaN  79.0  72.0  76.0   0  NaN   \n",
              "3        0         NaN  42   7   4   0.1 NaN  NaN  80.0  72.0  76.0   0  NaN   \n",
              "4        0         NaN  42   7   5     0 NaN  NaN  80.0  71.0  76.0   0  NaN   \n",
              "\n",
              "   FT  FB  FTI  ITH  PGT TSHDSBRSGF  SD3  RHX  RHN  RVG  WTE  \n",
              "0 NaN NaN  NaN  NaN  NaN        NaN  NaN  NaN  NaN  NaN  NaN  \n",
              "1 NaN NaN  NaN  NaN  NaN        NaN  NaN  NaN  NaN  NaN  NaN  \n",
              "2 NaN NaN  NaN  NaN  NaN        NaN  NaN  NaN  NaN  NaN  NaN  \n",
              "3 NaN NaN  NaN  NaN  NaN        NaN  NaN  NaN  NaN  NaN  NaN  \n",
              "4 NaN NaN  NaN  NaN  NaN        NaN  NaN  NaN  NaN  NaN  NaN  "
            ]
          },
          "metadata": {
            "tags": []
          },
          "execution_count": 172
        }
      ]
    },
    {
      "cell_type": "code",
      "metadata": {
        "id": "cLhcdahAOCE5",
        "outputId": "6077b68a-00a7-49cf-b6da-24860a9f5059",
        "colab": {
          "base_uri": "https://localhost:8080/",
          "height": 306
        }
      },
      "source": [
        "df_weather_by_date = df_weather[['Date','MeanTemp']]\n",
        "df_weather_by_date['Date_ts'] = pd.to_datetime(df_weather_by_date['Date'])#,format='%Y-%M')\n",
        "df_weather_by_date.head()\n"
      ],
      "execution_count": 173,
      "outputs": [
        {
          "output_type": "stream",
          "text": [
            "/usr/local/lib/python3.6/dist-packages/ipykernel_launcher.py:2: SettingWithCopyWarning: \n",
            "A value is trying to be set on a copy of a slice from a DataFrame.\n",
            "Try using .loc[row_indexer,col_indexer] = value instead\n",
            "\n",
            "See the caveats in the documentation: https://pandas.pydata.org/pandas-docs/stable/user_guide/indexing.html#returning-a-view-versus-a-copy\n",
            "  \n"
          ],
          "name": "stderr"
        },
        {
          "output_type": "execute_result",
          "data": {
            "text/html": [
              "<div>\n",
              "<style scoped>\n",
              "    .dataframe tbody tr th:only-of-type {\n",
              "        vertical-align: middle;\n",
              "    }\n",
              "\n",
              "    .dataframe tbody tr th {\n",
              "        vertical-align: top;\n",
              "    }\n",
              "\n",
              "    .dataframe thead th {\n",
              "        text-align: right;\n",
              "    }\n",
              "</style>\n",
              "<table border=\"1\" class=\"dataframe\">\n",
              "  <thead>\n",
              "    <tr style=\"text-align: right;\">\n",
              "      <th></th>\n",
              "      <th>Date</th>\n",
              "      <th>MeanTemp</th>\n",
              "      <th>Date_ts</th>\n",
              "    </tr>\n",
              "  </thead>\n",
              "  <tbody>\n",
              "    <tr>\n",
              "      <th>0</th>\n",
              "      <td>1942-7-1</td>\n",
              "      <td>23.888889</td>\n",
              "      <td>1942-07-01</td>\n",
              "    </tr>\n",
              "    <tr>\n",
              "      <th>1</th>\n",
              "      <td>1942-7-2</td>\n",
              "      <td>25.555556</td>\n",
              "      <td>1942-07-02</td>\n",
              "    </tr>\n",
              "    <tr>\n",
              "      <th>2</th>\n",
              "      <td>1942-7-3</td>\n",
              "      <td>24.444444</td>\n",
              "      <td>1942-07-03</td>\n",
              "    </tr>\n",
              "    <tr>\n",
              "      <th>3</th>\n",
              "      <td>1942-7-4</td>\n",
              "      <td>24.444444</td>\n",
              "      <td>1942-07-04</td>\n",
              "    </tr>\n",
              "    <tr>\n",
              "      <th>4</th>\n",
              "      <td>1942-7-5</td>\n",
              "      <td>24.444444</td>\n",
              "      <td>1942-07-05</td>\n",
              "    </tr>\n",
              "  </tbody>\n",
              "</table>\n",
              "</div>"
            ],
            "text/plain": [
              "       Date   MeanTemp    Date_ts\n",
              "0  1942-7-1  23.888889 1942-07-01\n",
              "1  1942-7-2  25.555556 1942-07-02\n",
              "2  1942-7-3  24.444444 1942-07-03\n",
              "3  1942-7-4  24.444444 1942-07-04\n",
              "4  1942-7-5  24.444444 1942-07-05"
            ]
          },
          "metadata": {
            "tags": []
          },
          "execution_count": 173
        }
      ]
    },
    {
      "cell_type": "code",
      "metadata": {
        "id": "5toVBy9VOwT2"
      },
      "source": [
        "df_weather_by_date.set_index('Date_ts', inplace=True)"
      ],
      "execution_count": 174,
      "outputs": []
    },
    {
      "cell_type": "code",
      "metadata": {
        "id": "36K9kaV-Oeyp",
        "outputId": "e7009b2e-8f74-43b0-84ff-c9c259b5a60c",
        "colab": {
          "base_uri": "https://localhost:8080/",
          "height": 235
        }
      },
      "source": [
        "df_weather_by_date.head()"
      ],
      "execution_count": 175,
      "outputs": [
        {
          "output_type": "execute_result",
          "data": {
            "text/html": [
              "<div>\n",
              "<style scoped>\n",
              "    .dataframe tbody tr th:only-of-type {\n",
              "        vertical-align: middle;\n",
              "    }\n",
              "\n",
              "    .dataframe tbody tr th {\n",
              "        vertical-align: top;\n",
              "    }\n",
              "\n",
              "    .dataframe thead th {\n",
              "        text-align: right;\n",
              "    }\n",
              "</style>\n",
              "<table border=\"1\" class=\"dataframe\">\n",
              "  <thead>\n",
              "    <tr style=\"text-align: right;\">\n",
              "      <th></th>\n",
              "      <th>Date</th>\n",
              "      <th>MeanTemp</th>\n",
              "    </tr>\n",
              "    <tr>\n",
              "      <th>Date_ts</th>\n",
              "      <th></th>\n",
              "      <th></th>\n",
              "    </tr>\n",
              "  </thead>\n",
              "  <tbody>\n",
              "    <tr>\n",
              "      <th>1942-07-01</th>\n",
              "      <td>1942-7-1</td>\n",
              "      <td>23.888889</td>\n",
              "    </tr>\n",
              "    <tr>\n",
              "      <th>1942-07-02</th>\n",
              "      <td>1942-7-2</td>\n",
              "      <td>25.555556</td>\n",
              "    </tr>\n",
              "    <tr>\n",
              "      <th>1942-07-03</th>\n",
              "      <td>1942-7-3</td>\n",
              "      <td>24.444444</td>\n",
              "    </tr>\n",
              "    <tr>\n",
              "      <th>1942-07-04</th>\n",
              "      <td>1942-7-4</td>\n",
              "      <td>24.444444</td>\n",
              "    </tr>\n",
              "    <tr>\n",
              "      <th>1942-07-05</th>\n",
              "      <td>1942-7-5</td>\n",
              "      <td>24.444444</td>\n",
              "    </tr>\n",
              "  </tbody>\n",
              "</table>\n",
              "</div>"
            ],
            "text/plain": [
              "                Date   MeanTemp\n",
              "Date_ts                        \n",
              "1942-07-01  1942-7-1  23.888889\n",
              "1942-07-02  1942-7-2  25.555556\n",
              "1942-07-03  1942-7-3  24.444444\n",
              "1942-07-04  1942-7-4  24.444444\n",
              "1942-07-05  1942-7-5  24.444444"
            ]
          },
          "metadata": {
            "tags": []
          },
          "execution_count": 175
        }
      ]
    },
    {
      "cell_type": "code",
      "metadata": {
        "id": "FfRh5l4dOYFr",
        "outputId": "dfc18930-8f61-4a13-dc72-71e983640ab9",
        "colab": {
          "base_uri": "https://localhost:8080/",
          "height": 741
        }
      },
      "source": [
        "calplot.calplot(df_weather_by_date.MeanTemp, cmap='YlGn');"
      ],
      "execution_count": 176,
      "outputs": [
        {
          "output_type": "display_data",
          "data": {
            "image/png": "[encoded data removed]",
            "text/plain": [
              "<Figure size 900x734.4 with 7 Axes>"
            ]
          },
          "metadata": {
            "tags": [],
            "needs_background": "light"
          }
        }
      ]
    },
    {
      "cell_type": "markdown",
      "metadata": {
        "id": "mmY5aloBE-IN"
      },
      "source": [
        "### Visualisation - Weekly Calender\n"
      ]
    },
    {
      "cell_type": "code",
      "metadata": {
        "id": "AuSxuNHoFB48"
      },
      "source": [
        "df_avacado_sales.set_index('Date', inplace=True)\n"
      ],
      "execution_count": null,
      "outputs": []
    },
    {
      "cell_type": "code",
      "metadata": {
        "id": "MaNuPQ-yFG-Y",
        "outputId": "ffbae20c-574a-44ba-a7c9-f5280b2a782f",
        "colab": {
          "base_uri": "https://localhost:8080/",
          "height": 497
        }
      },
      "source": [
        "calplot.calplot(df_avacado_sales.AveragePrice, cmap='YlGn');"
      ],
      "execution_count": null,
      "outputs": [
        {
          "output_type": "display_data",
          "data": {
            "image/png": "[encoded data removed]",
            "text/plain": [
              "<Figure size 900x489.6 with 5 Axes>"
            ]
          },
          "metadata": {
            "tags": [],
            "needs_background": "light"
          }
        }
      ]
    }
  ]
}
